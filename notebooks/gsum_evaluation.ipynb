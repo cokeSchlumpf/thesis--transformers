{
 "cells": [
  {
   "cell_type": "code",
   "execution_count": 1,
   "metadata": {
    "collapsed": true
   },
   "outputs": [],
   "source": [
    "from lib.utils import read_file_to_object"
   ]
  },
  {
   "cell_type": "code",
   "execution_count": 2,
   "outputs": [
    {
     "ename": "TypeError",
     "evalue": "__cinit__() takes at least 2 positional arguments (0 given)",
     "output_type": "error",
     "traceback": [
      "\u001B[0;31m---------------------------------------------------------------------------\u001B[0m",
      "\u001B[0;31mTypeError\u001B[0m                                 Traceback (most recent call last)",
      "\u001B[0;32m/tmp/ipykernel_224508/520744270.py\u001B[0m in \u001B[0;36m<module>\u001B[0;34m\u001B[0m\n\u001B[1;32m      1\u001B[0m \u001B[0mcheckpoint\u001B[0m \u001B[0;34m=\u001B[0m \u001B[0;34m'/home/michael/Workspaces/exp--pytorch-transformers/data/trained/2021-07-08-0858'\u001B[0m\u001B[0;34m\u001B[0m\u001B[0;34m\u001B[0m\u001B[0m\n\u001B[0;32m----> 2\u001B[0;31m \u001B[0mdf\u001B[0m \u001B[0;34m=\u001B[0m \u001B[0mread_file_to_object\u001B[0m\u001B[0;34m(\u001B[0m\u001B[0;34mf'{checkpoint}/scores.pkl'\u001B[0m\u001B[0;34m)\u001B[0m\u001B[0;34m\u001B[0m\u001B[0;34m\u001B[0m\u001B[0m\n\u001B[0m\u001B[1;32m      3\u001B[0m \u001B[0mdf\u001B[0m\u001B[0;34m.\u001B[0m\u001B[0mtail\u001B[0m\u001B[0;34m(\u001B[0m\u001B[0;34m)\u001B[0m\u001B[0;34m\u001B[0m\u001B[0;34m\u001B[0m\u001B[0m\n\u001B[1;32m      4\u001B[0m \u001B[0;34m\u001B[0m\u001B[0m\n",
      "\u001B[0;32m~/Workspaces/exp--pytorch-transformers/lib/utils.py\u001B[0m in \u001B[0;36mread_file_to_object\u001B[0;34m(file)\u001B[0m\n\u001B[1;32m     52\u001B[0m \u001B[0;34m\u001B[0m\u001B[0m\n\u001B[1;32m     53\u001B[0m     \u001B[0;32mwith\u001B[0m \u001B[0mopen\u001B[0m\u001B[0;34m(\u001B[0m\u001B[0mfile\u001B[0m\u001B[0;34m,\u001B[0m \u001B[0;34m'rb'\u001B[0m\u001B[0;34m)\u001B[0m \u001B[0;32mas\u001B[0m \u001B[0mf\u001B[0m\u001B[0;34m:\u001B[0m\u001B[0;34m\u001B[0m\u001B[0;34m\u001B[0m\u001B[0m\n\u001B[0;32m---> 54\u001B[0;31m         \u001B[0;32mreturn\u001B[0m \u001B[0mpickle\u001B[0m\u001B[0;34m.\u001B[0m\u001B[0mload\u001B[0m\u001B[0;34m(\u001B[0m\u001B[0mf\u001B[0m\u001B[0;34m)\u001B[0m\u001B[0;34m\u001B[0m\u001B[0;34m\u001B[0m\u001B[0m\n\u001B[0m\u001B[1;32m     55\u001B[0m \u001B[0;34m\u001B[0m\u001B[0m\n\u001B[1;32m     56\u001B[0m \u001B[0;34m\u001B[0m\u001B[0m\n",
      "\u001B[0;32m~/Workspaces/exp--pytorch-transformers/env/lib/python3.8/site-packages/pandas/_libs/internals.pyx\u001B[0m in \u001B[0;36mpandas._libs.internals.BlockManager.__cinit__\u001B[0;34m()\u001B[0m\n",
      "\u001B[0;31mTypeError\u001B[0m: __cinit__() takes at least 2 positional arguments (0 given)"
     ]
    }
   ],
   "source": [
    "checkpoint = '/home/michael/Workspaces/exp--pytorch-transformers/data/trained/2021-07-08-0858'\n",
    "df = read_file_to_object(f'{checkpoint}/scores.pkl')\n",
    "df.tail()"
   ],
   "metadata": {
    "collapsed": false,
    "pycharm": {
     "name": "#%%\n"
    }
   }
  },
  {
   "cell_type": "code",
   "execution_count": 25,
   "outputs": [
    {
     "name": "stderr",
     "output_type": "stream",
     "text": [
      "/tmp/ipykernel_76206/3380063166.py:1: FutureWarning: Dropping of nuisance columns in DataFrame reductions (with 'numeric_only=None') is deprecated; in a future version this will raise TypeError.  Select only valid columns before calling the reduction.\n",
      "  df.mean()\n"
     ]
    },
    {
     "data": {
      "text/plain": "r1p           0.369203\nr1r           0.322306\nr1f           0.333373\nr2p           0.144200\nr2r           0.124562\nr2f           0.129271\nr3p           0.078157\nr3r           0.065989\nr3f           0.069106\nrLp           0.262586\nrLr           0.229371\nrLf           0.237051\noracle_r1p    0.478171\noracle_r1r    0.483230\noracle_r1f    0.464936\noracle_r2p    0.252452\noracle_r2r    0.246961\noracle_r2f    0.240417\noracle_r3p    0.159953\noracle_r3r    0.151243\noracle_r3f    0.149163\noracle_rLp    0.324454\noracle_rLr    0.320123\noracle_rLf    0.310845\ndtype: float64"
     },
     "execution_count": 25,
     "metadata": {},
     "output_type": "execute_result"
    }
   ],
   "source": [
    "df.mean()"
   ],
   "metadata": {
    "collapsed": false,
    "pycharm": {
     "name": "#%%\n"
    }
   }
  },
  {
   "cell_type": "code",
   "execution_count": 26,
   "outputs": [
    {
     "name": "stdout",
     "output_type": "stream",
     "text": [
      "A graphic on NBC's Today show on Wednesday misidentified Saturday Night Live creator Lorne Michaels as 'Lauren' The flub by a graphics person, made on the East Coast feed of the morning show, was corrected for broadcasts in other time zones and online . Today interviewed 70-year-old Michaels for a story  on New York gathering for influential people listed by TIME magazine .\n"
     ]
    }
   ],
   "source": [
    "print(df.iloc[7]['summary'])"
   ],
   "metadata": {
    "collapsed": false,
    "pycharm": {
     "name": "#%%\n"
    }
   }
  },
  {
   "cell_type": "code",
   "execution_count": 27,
   "outputs": [
    {
     "name": "stdout",
     "output_type": "stream",
     "text": [
      "today had interviewed 70 - year - old [UNK] michaels for a story matt [UNK] did on a new york gathering for people listed by time magazine as the 100 most influential in the world. the [UNK] married father - of - three made up part of the titans category on the list compiled by time, which included rapper kanye west, apple ceo tim cook and kim [UNK].\n"
     ]
    }
   ],
   "source": [
    "print(df.iloc[7]['summary_predicted'])"
   ],
   "metadata": {
    "collapsed": false,
    "pycharm": {
     "name": "#%%\n"
    }
   }
  },
  {
   "cell_type": "code",
   "execution_count": null,
   "outputs": [],
   "source": [],
   "metadata": {
    "collapsed": false,
    "pycharm": {
     "name": "#%%\n"
    }
   }
  }
 ],
 "metadata": {
  "kernelspec": {
   "display_name": "Python 3",
   "language": "python",
   "name": "python3"
  },
  "language_info": {
   "codemirror_mode": {
    "name": "ipython",
    "version": 2
   },
   "file_extension": ".py",
   "mimetype": "text/x-python",
   "name": "python",
   "nbconvert_exporter": "python",
   "pygments_lexer": "ipython2",
   "version": "2.7.6"
  }
 },
 "nbformat": 4,
 "nbformat_minor": 0
}