{
 "cells": [
  {
   "cell_type": "code",
   "execution_count": 1,
   "metadata": {
    "collapsed": true
   },
   "outputs": [],
   "source": [
    "import pandas as pd\n",
    "\n",
    "from lib.utils import read_file_to_object"
   ]
  },
  {
   "cell_type": "code",
   "execution_count": 4,
   "outputs": [
    {
     "data": {
      "text/plain": "                                                 text  \\\n15  A sex offender has been jailed for fatally sta...   \n16  A contestant on the South African version of B...   \n17  A police officer feared for his life when he f...   \n18  Nick Abendanon was perhaps the only happy Engl...   \n19  A 1-year-old girl was shot in the head and lef...   \n\n                                              summary  \\\n15  Eni Mevish, 20, was stabbed to death by David ...   \n16  Siyanda Ngwenya accused of attacking the woman...   \n17  Cleveland, Ohio, officer Michael Brelo is faci...   \n18  Nick Abendanon was man of the match in Clermon...   \n19  One-year-old baby Malaja was shot while riding...   \n\n                                    summary_predicted       r1p       r1r  \\\n15  david marshall must serve a minimum of 20 year...  0.530303  0.538462   \n16  adams [UNK], known as adams, allegedly attacke...  0.400000  0.440000   \n17  michael [UNK], 31, made his first appearance i...  0.229730  0.274194   \n18  nick [UNK] scored for clermont in their [UNK] ...  0.311111  0.215385   \n19  baby [UNK] was shot in the head and left cling...  0.294118  0.540541   \n\n         r1f       r2p       r2r       r2f       r3p       r3r       r3f  \\\n15  0.534351  0.230769  0.234375  0.232558  0.109375  0.111111  0.110236   \n16  0.419048  0.148148  0.163265  0.155340  0.056604  0.062500  0.059406   \n17  0.250000  0.068493  0.081967  0.074627  0.027778  0.033333  0.030303   \n18  0.254545  0.090909  0.062500  0.074074  0.069767  0.047619  0.056604   \n19  0.380952  0.104478  0.194444  0.135922  0.030303  0.057143  0.039604   \n\n         rLp       rLr       rLf  \n15  0.212121  0.215385  0.213740  \n16  0.272727  0.300000  0.285714  \n17  0.162162  0.193548  0.176471  \n18  0.222222  0.153846  0.181818  \n19  0.220588  0.405405  0.285714  ",
      "text/html": "<div>\n<style scoped>\n    .dataframe tbody tr th:only-of-type {\n        vertical-align: middle;\n    }\n\n    .dataframe tbody tr th {\n        vertical-align: top;\n    }\n\n    .dataframe thead th {\n        text-align: right;\n    }\n</style>\n<table border=\"1\" class=\"dataframe\">\n  <thead>\n    <tr style=\"text-align: right;\">\n      <th></th>\n      <th>text</th>\n      <th>summary</th>\n      <th>summary_predicted</th>\n      <th>r1p</th>\n      <th>r1r</th>\n      <th>r1f</th>\n      <th>r2p</th>\n      <th>r2r</th>\n      <th>r2f</th>\n      <th>r3p</th>\n      <th>r3r</th>\n      <th>r3f</th>\n      <th>rLp</th>\n      <th>rLr</th>\n      <th>rLf</th>\n    </tr>\n  </thead>\n  <tbody>\n    <tr>\n      <th>15</th>\n      <td>A sex offender has been jailed for fatally sta...</td>\n      <td>Eni Mevish, 20, was stabbed to death by David ...</td>\n      <td>david marshall must serve a minimum of 20 year...</td>\n      <td>0.530303</td>\n      <td>0.538462</td>\n      <td>0.534351</td>\n      <td>0.230769</td>\n      <td>0.234375</td>\n      <td>0.232558</td>\n      <td>0.109375</td>\n      <td>0.111111</td>\n      <td>0.110236</td>\n      <td>0.212121</td>\n      <td>0.215385</td>\n      <td>0.213740</td>\n    </tr>\n    <tr>\n      <th>16</th>\n      <td>A contestant on the South African version of B...</td>\n      <td>Siyanda Ngwenya accused of attacking the woman...</td>\n      <td>adams [UNK], known as adams, allegedly attacke...</td>\n      <td>0.400000</td>\n      <td>0.440000</td>\n      <td>0.419048</td>\n      <td>0.148148</td>\n      <td>0.163265</td>\n      <td>0.155340</td>\n      <td>0.056604</td>\n      <td>0.062500</td>\n      <td>0.059406</td>\n      <td>0.272727</td>\n      <td>0.300000</td>\n      <td>0.285714</td>\n    </tr>\n    <tr>\n      <th>17</th>\n      <td>A police officer feared for his life when he f...</td>\n      <td>Cleveland, Ohio, officer Michael Brelo is faci...</td>\n      <td>michael [UNK], 31, made his first appearance i...</td>\n      <td>0.229730</td>\n      <td>0.274194</td>\n      <td>0.250000</td>\n      <td>0.068493</td>\n      <td>0.081967</td>\n      <td>0.074627</td>\n      <td>0.027778</td>\n      <td>0.033333</td>\n      <td>0.030303</td>\n      <td>0.162162</td>\n      <td>0.193548</td>\n      <td>0.176471</td>\n    </tr>\n    <tr>\n      <th>18</th>\n      <td>Nick Abendanon was perhaps the only happy Engl...</td>\n      <td>Nick Abendanon was man of the match in Clermon...</td>\n      <td>nick [UNK] scored for clermont in their [UNK] ...</td>\n      <td>0.311111</td>\n      <td>0.215385</td>\n      <td>0.254545</td>\n      <td>0.090909</td>\n      <td>0.062500</td>\n      <td>0.074074</td>\n      <td>0.069767</td>\n      <td>0.047619</td>\n      <td>0.056604</td>\n      <td>0.222222</td>\n      <td>0.153846</td>\n      <td>0.181818</td>\n    </tr>\n    <tr>\n      <th>19</th>\n      <td>A 1-year-old girl was shot in the head and lef...</td>\n      <td>One-year-old baby Malaja was shot while riding...</td>\n      <td>baby [UNK] was shot in the head and left cling...</td>\n      <td>0.294118</td>\n      <td>0.540541</td>\n      <td>0.380952</td>\n      <td>0.104478</td>\n      <td>0.194444</td>\n      <td>0.135922</td>\n      <td>0.030303</td>\n      <td>0.057143</td>\n      <td>0.039604</td>\n      <td>0.220588</td>\n      <td>0.405405</td>\n      <td>0.285714</td>\n    </tr>\n  </tbody>\n</table>\n</div>"
     },
     "execution_count": 4,
     "metadata": {},
     "output_type": "execute_result"
    }
   ],
   "source": [
    "checkpoint = '/home/michael/Workspaces/exp--pytorch-transformers/data/trained/2021-07-08-0858'\n",
    "df = read_file_to_object(f'{checkpoint}/scores.pkl')\n",
    "df.tail()"
   ],
   "metadata": {
    "collapsed": false,
    "pycharm": {
     "name": "#%%\n"
    }
   }
  },
  {
   "cell_type": "code",
   "execution_count": 5,
   "outputs": [
    {
     "data": {
      "text/plain": "r1p    0.353747\nr1r    0.327978\nr1f    0.330758\nr2p    0.142667\nr2r    0.129795\nr2f    0.131788\nr3p    0.080097\nr3r    0.070653\nr3f    0.072832\nrLp    0.256380\nrLr    0.237976\nrLf    0.239547\ndtype: float64"
     },
     "execution_count": 5,
     "metadata": {},
     "output_type": "execute_result"
    }
   ],
   "source": [
    "df.mean()"
   ],
   "metadata": {
    "collapsed": false,
    "pycharm": {
     "name": "#%%\n"
    }
   }
  },
  {
   "cell_type": "code",
   "execution_count": null,
   "outputs": [],
   "source": [],
   "metadata": {
    "collapsed": false,
    "pycharm": {
     "name": "#%%\n"
    }
   }
  }
 ],
 "metadata": {
  "kernelspec": {
   "display_name": "Python 3",
   "language": "python",
   "name": "python3"
  },
  "language_info": {
   "codemirror_mode": {
    "name": "ipython",
    "version": 2
   },
   "file_extension": ".py",
   "mimetype": "text/x-python",
   "name": "python",
   "nbconvert_exporter": "python",
   "pygments_lexer": "ipython2",
   "version": "2.7.6"
  }
 },
 "nbformat": 4,
 "nbformat_minor": 0
}