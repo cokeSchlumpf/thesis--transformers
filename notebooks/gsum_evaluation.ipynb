{
 "cells": [
  {
   "cell_type": "code",
   "execution_count": 1,
   "metadata": {
    "collapsed": true
   },
   "outputs": [],
   "source": [
    "import pandas as pd\n",
    "\n",
    "from lib.utils import read_file_to_object"
   ]
  },
  {
   "cell_type": "code",
   "execution_count": 3,
   "outputs": [
    {
     "data": {
      "text/plain": "                                                text  \\\n0  Xiangyu Ouyang, 26, was on a state-sponsored s...   \n1  After weeks of being hounded  for a comment on...   \n0  (CNN)WikiLeaks founder Julian Assange has agre...   \n1  A drone carrying small traces of a radioactive...   \n0  The world's largest sperm bank is relocating n...   \n1  South Sydney hooker Issac Luke is at the centr...   \n\n                                             summary  \\\n0  Singaporean A*Star scholarship recipient Xiang...   \n1  Former 2Day FM host Mel Greig penned an open n...   \n0  The WikiLeaks founder is wanted for questionin...   \n1  Remote control device had miniscule levels of ...   \n0  Cryos International is moving from New York to...   \n1  Souths hooker Issac Luke has become embroiled ...   \n\n                                   summary_predicted       r1p       r1r  \\\n0  the 26 - year - old was on a state - sponsored...  0.339286  0.246753   \n1  mel [UNK] has written an open letter to the me...  0.425000  0.373626   \n0  julian [UNK] has been [UNK] up in the [UNK] em...  0.406250  0.448276   \n1  drone carrying small traces of radioactive mat...  0.140000  0.179487   \n0  [UNK] international, the world [UNK] largest s...  0.209677  0.260000   \n1  south sydney hooker [UNK] luke posted an offen...  0.634615  0.351064   \n\n        r1f       r2p       r2r       r2f       r3p       r3r       r3f  \\\n0  0.285714  0.036364  0.026316  0.030534  0.018519  0.013333  0.015504   \n1  0.397661  0.177215  0.155556  0.165680  0.115385  0.101124  0.107784   \n0  0.426230  0.258065  0.285714  0.271186  0.166667  0.185185  0.175439   \n1  0.157303  0.040816  0.052632  0.045977  0.000000  0.000000  0.000000   \n0  0.232143  0.081967  0.102041  0.090909  0.033333  0.041667  0.037037   \n1  0.452055  0.254902  0.139785  0.180556  0.180000  0.097826  0.126761   \n\n        rLp       rLr       rLf  \n0  0.178571  0.129870  0.150376  \n1  0.312500  0.274725  0.292398  \n0  0.343750  0.379310  0.360656  \n1  0.100000  0.128205  0.112360  \n0  0.177419  0.220000  0.196429  \n1  0.442308  0.244681  0.315068  ",
      "text/html": "<div>\n<style scoped>\n    .dataframe tbody tr th:only-of-type {\n        vertical-align: middle;\n    }\n\n    .dataframe tbody tr th {\n        vertical-align: top;\n    }\n\n    .dataframe thead th {\n        text-align: right;\n    }\n</style>\n<table border=\"1\" class=\"dataframe\">\n  <thead>\n    <tr style=\"text-align: right;\">\n      <th></th>\n      <th>text</th>\n      <th>summary</th>\n      <th>summary_predicted</th>\n      <th>r1p</th>\n      <th>r1r</th>\n      <th>r1f</th>\n      <th>r2p</th>\n      <th>r2r</th>\n      <th>r2f</th>\n      <th>r3p</th>\n      <th>r3r</th>\n      <th>r3f</th>\n      <th>rLp</th>\n      <th>rLr</th>\n      <th>rLf</th>\n    </tr>\n  </thead>\n  <tbody>\n    <tr>\n      <th>0</th>\n      <td>Xiangyu Ouyang, 26, was on a state-sponsored s...</td>\n      <td>Singaporean A*Star scholarship recipient Xiang...</td>\n      <td>the 26 - year - old was on a state - sponsored...</td>\n      <td>0.339286</td>\n      <td>0.246753</td>\n      <td>0.285714</td>\n      <td>0.036364</td>\n      <td>0.026316</td>\n      <td>0.030534</td>\n      <td>0.018519</td>\n      <td>0.013333</td>\n      <td>0.015504</td>\n      <td>0.178571</td>\n      <td>0.129870</td>\n      <td>0.150376</td>\n    </tr>\n    <tr>\n      <th>1</th>\n      <td>After weeks of being hounded  for a comment on...</td>\n      <td>Former 2Day FM host Mel Greig penned an open n...</td>\n      <td>mel [UNK] has written an open letter to the me...</td>\n      <td>0.425000</td>\n      <td>0.373626</td>\n      <td>0.397661</td>\n      <td>0.177215</td>\n      <td>0.155556</td>\n      <td>0.165680</td>\n      <td>0.115385</td>\n      <td>0.101124</td>\n      <td>0.107784</td>\n      <td>0.312500</td>\n      <td>0.274725</td>\n      <td>0.292398</td>\n    </tr>\n    <tr>\n      <th>0</th>\n      <td>(CNN)WikiLeaks founder Julian Assange has agre...</td>\n      <td>The WikiLeaks founder is wanted for questionin...</td>\n      <td>julian [UNK] has been [UNK] up in the [UNK] em...</td>\n      <td>0.406250</td>\n      <td>0.448276</td>\n      <td>0.426230</td>\n      <td>0.258065</td>\n      <td>0.285714</td>\n      <td>0.271186</td>\n      <td>0.166667</td>\n      <td>0.185185</td>\n      <td>0.175439</td>\n      <td>0.343750</td>\n      <td>0.379310</td>\n      <td>0.360656</td>\n    </tr>\n    <tr>\n      <th>1</th>\n      <td>A drone carrying small traces of a radioactive...</td>\n      <td>Remote control device had miniscule levels of ...</td>\n      <td>drone carrying small traces of radioactive mat...</td>\n      <td>0.140000</td>\n      <td>0.179487</td>\n      <td>0.157303</td>\n      <td>0.040816</td>\n      <td>0.052632</td>\n      <td>0.045977</td>\n      <td>0.000000</td>\n      <td>0.000000</td>\n      <td>0.000000</td>\n      <td>0.100000</td>\n      <td>0.128205</td>\n      <td>0.112360</td>\n    </tr>\n    <tr>\n      <th>0</th>\n      <td>The world's largest sperm bank is relocating n...</td>\n      <td>Cryos International is moving from New York to...</td>\n      <td>[UNK] international, the world [UNK] largest s...</td>\n      <td>0.209677</td>\n      <td>0.260000</td>\n      <td>0.232143</td>\n      <td>0.081967</td>\n      <td>0.102041</td>\n      <td>0.090909</td>\n      <td>0.033333</td>\n      <td>0.041667</td>\n      <td>0.037037</td>\n      <td>0.177419</td>\n      <td>0.220000</td>\n      <td>0.196429</td>\n    </tr>\n    <tr>\n      <th>1</th>\n      <td>South Sydney hooker Issac Luke is at the centr...</td>\n      <td>Souths hooker Issac Luke has become embroiled ...</td>\n      <td>south sydney hooker [UNK] luke posted an offen...</td>\n      <td>0.634615</td>\n      <td>0.351064</td>\n      <td>0.452055</td>\n      <td>0.254902</td>\n      <td>0.139785</td>\n      <td>0.180556</td>\n      <td>0.180000</td>\n      <td>0.097826</td>\n      <td>0.126761</td>\n      <td>0.442308</td>\n      <td>0.244681</td>\n      <td>0.315068</td>\n    </tr>\n  </tbody>\n</table>\n</div>"
     },
     "execution_count": 3,
     "metadata": {},
     "output_type": "execute_result"
    }
   ],
   "source": [
    "checkpoint = '/home/michael/Workspaces/exp--pytorch-transformers/data/trained/2021-07-08-0858'\n",
    "df = read_file_to_object(f'{checkpoint}/scores.pkl')\n",
    "df"
   ],
   "metadata": {
    "collapsed": false,
    "pycharm": {
     "name": "#%%\n"
    }
   }
  },
  {
   "cell_type": "code",
   "execution_count": null,
   "outputs": [],
   "source": [],
   "metadata": {
    "collapsed": false,
    "pycharm": {
     "name": "#%%\n"
    }
   }
  }
 ],
 "metadata": {
  "kernelspec": {
   "display_name": "Python 3",
   "language": "python",
   "name": "python3"
  },
  "language_info": {
   "codemirror_mode": {
    "name": "ipython",
    "version": 2
   },
   "file_extension": ".py",
   "mimetype": "text/x-python",
   "name": "python",
   "nbconvert_exporter": "python",
   "pygments_lexer": "ipython2",
   "version": "2.7.6"
  }
 },
 "nbformat": 4,
 "nbformat_minor": 0
}