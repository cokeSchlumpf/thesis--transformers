{
 "cells": [
  {
   "cell_type": "code",
   "execution_count": 14,
   "metadata": {
    "collapsed": true
   },
   "outputs": [],
   "source": [
    "import pandas as pd\n",
    "\n",
    "from lib.utils import read_file_to_object"
   ]
  },
  {
   "cell_type": "code",
   "execution_count": 16,
   "outputs": [
    {
     "data": {
      "text/plain": "                                                 text  \\\n45  Auguste Arend war die Tochter eines jüdischen...   \n46  Im März 1987 hatte Prince das Musikalbum \"Sig...   \n47  Nagel besuchte ein Technisches Gymnasium. Nach...   \n48  \"Puccinia stenotaphri\" ist mit blossem Auge nu...   \n49  Der Verein wurde im Jahr 1910 als \"SC Hansa 19...   \n\n                                              summary  \\\n45  Auguste Arend, seit 1825 Auguste von Prillwitz...   \n46  Prince – Sign O’ the Times ist ein Konzertfilm...   \n47  Ralf Nagel ist ein deutscher Politiker . Er wa...   \n48  Puccinia stenotaphri ist eine Ständerpilzart ...   \n49  Der VfR Hansa Elbing war ein deutscher Sportve...   \n\n                                    summary_predicted  \\\n45  auguste arend war die tochter eines jüdischen...   \n46  im märz 1987 hatte prince das musikalbum sign...   \n47  nach der landtagswahl 1994 wurde nagel im juli...   \n48  puccinia stenotaphri ist mit blossem auge nur ...   \n49  der verein wurde im jahr 1910 als sc hansa 191...   \n\n                                       summary_oracle       r1p       r1r  \\\n45  Auguste Arend war die Tochter eines judischen ...  0.153846  0.347826   \n46  Im Marz 1987 hatte Prince das Musikalbum Sign ...  0.346939  0.142857   \n47  Er studierte Politikwissenschaft Soziologie un...  0.137500  0.366667   \n48  Sie wachsen in Nestern die als gelbliche bis b...  0.292683  0.244898   \n49  1912 erfolgte die Umbenennung in VfR Hansa Elb...  0.135922  0.482759   \n\n         r1f       r2p       r2r       r2f  ...  oracle_r1f  oracle_r2p  \\\n45  0.213333  0.039216  0.090909  0.054795  ...    0.328358    0.116279   \n46  0.202381  0.083333  0.033898  0.048193  ...    0.246914    0.095238   \n47  0.200000  0.050633  0.137931  0.074074  ...    0.230769    0.000000   \n48  0.266667  0.075000  0.062500  0.068182  ...    0.265060    0.151515   \n49  0.212121  0.039216  0.142857  0.061538  ...    0.352941    0.078947   \n\n    oracle_r2r  oracle_r2f  oracle_r3p  oracle_r3r  oracle_r3f  oracle_rLp  \\\n45    0.227273    0.153846    0.047619    0.095238    0.063492    0.227273   \n46    0.033898    0.050000    0.048780    0.017094    0.025316    0.325581   \n47    0.000000    0.000000    0.000000    0.000000    0.000000    0.136364   \n48    0.104167    0.123457    0.093750    0.063830    0.075949    0.176471   \n49    0.107143    0.090909    0.027027    0.037037    0.031250    0.230769   \n\n    oracle_rLr  oracle_rLf  \n45    0.434783    0.298507  \n46    0.117647    0.172840  \n47    0.100000    0.115385  \n48    0.122449    0.144578  \n49    0.310345    0.264706  \n\n[5 rows x 28 columns]",
      "text/html": "<div>\n<style scoped>\n    .dataframe tbody tr th:only-of-type {\n        vertical-align: middle;\n    }\n\n    .dataframe tbody tr th {\n        vertical-align: top;\n    }\n\n    .dataframe thead th {\n        text-align: right;\n    }\n</style>\n<table border=\"1\" class=\"dataframe\">\n  <thead>\n    <tr style=\"text-align: right;\">\n      <th></th>\n      <th>text</th>\n      <th>summary</th>\n      <th>summary_predicted</th>\n      <th>summary_oracle</th>\n      <th>r1p</th>\n      <th>r1r</th>\n      <th>r1f</th>\n      <th>r2p</th>\n      <th>r2r</th>\n      <th>r2f</th>\n      <th>...</th>\n      <th>oracle_r1f</th>\n      <th>oracle_r2p</th>\n      <th>oracle_r2r</th>\n      <th>oracle_r2f</th>\n      <th>oracle_r3p</th>\n      <th>oracle_r3r</th>\n      <th>oracle_r3f</th>\n      <th>oracle_rLp</th>\n      <th>oracle_rLr</th>\n      <th>oracle_rLf</th>\n    </tr>\n  </thead>\n  <tbody>\n    <tr>\n      <th>45</th>\n      <td>Auguste Arend war die Tochter eines jüdischen...</td>\n      <td>Auguste Arend, seit 1825 Auguste von Prillwitz...</td>\n      <td>auguste arend war die tochter eines jüdischen...</td>\n      <td>Auguste Arend war die Tochter eines judischen ...</td>\n      <td>0.153846</td>\n      <td>0.347826</td>\n      <td>0.213333</td>\n      <td>0.039216</td>\n      <td>0.090909</td>\n      <td>0.054795</td>\n      <td>...</td>\n      <td>0.328358</td>\n      <td>0.116279</td>\n      <td>0.227273</td>\n      <td>0.153846</td>\n      <td>0.047619</td>\n      <td>0.095238</td>\n      <td>0.063492</td>\n      <td>0.227273</td>\n      <td>0.434783</td>\n      <td>0.298507</td>\n    </tr>\n    <tr>\n      <th>46</th>\n      <td>Im März 1987 hatte Prince das Musikalbum \"Sig...</td>\n      <td>Prince – Sign O’ the Times ist ein Konzertfilm...</td>\n      <td>im märz 1987 hatte prince das musikalbum sign...</td>\n      <td>Im Marz 1987 hatte Prince das Musikalbum Sign ...</td>\n      <td>0.346939</td>\n      <td>0.142857</td>\n      <td>0.202381</td>\n      <td>0.083333</td>\n      <td>0.033898</td>\n      <td>0.048193</td>\n      <td>...</td>\n      <td>0.246914</td>\n      <td>0.095238</td>\n      <td>0.033898</td>\n      <td>0.050000</td>\n      <td>0.048780</td>\n      <td>0.017094</td>\n      <td>0.025316</td>\n      <td>0.325581</td>\n      <td>0.117647</td>\n      <td>0.172840</td>\n    </tr>\n    <tr>\n      <th>47</th>\n      <td>Nagel besuchte ein Technisches Gymnasium. Nach...</td>\n      <td>Ralf Nagel ist ein deutscher Politiker . Er wa...</td>\n      <td>nach der landtagswahl 1994 wurde nagel im juli...</td>\n      <td>Er studierte Politikwissenschaft Soziologie un...</td>\n      <td>0.137500</td>\n      <td>0.366667</td>\n      <td>0.200000</td>\n      <td>0.050633</td>\n      <td>0.137931</td>\n      <td>0.074074</td>\n      <td>...</td>\n      <td>0.230769</td>\n      <td>0.000000</td>\n      <td>0.000000</td>\n      <td>0.000000</td>\n      <td>0.000000</td>\n      <td>0.000000</td>\n      <td>0.000000</td>\n      <td>0.136364</td>\n      <td>0.100000</td>\n      <td>0.115385</td>\n    </tr>\n    <tr>\n      <th>48</th>\n      <td>\"Puccinia stenotaphri\" ist mit blossem Auge nu...</td>\n      <td>Puccinia stenotaphri ist eine Ständerpilzart ...</td>\n      <td>puccinia stenotaphri ist mit blossem auge nur ...</td>\n      <td>Sie wachsen in Nestern die als gelbliche bis b...</td>\n      <td>0.292683</td>\n      <td>0.244898</td>\n      <td>0.266667</td>\n      <td>0.075000</td>\n      <td>0.062500</td>\n      <td>0.068182</td>\n      <td>...</td>\n      <td>0.265060</td>\n      <td>0.151515</td>\n      <td>0.104167</td>\n      <td>0.123457</td>\n      <td>0.093750</td>\n      <td>0.063830</td>\n      <td>0.075949</td>\n      <td>0.176471</td>\n      <td>0.122449</td>\n      <td>0.144578</td>\n    </tr>\n    <tr>\n      <th>49</th>\n      <td>Der Verein wurde im Jahr 1910 als \"SC Hansa 19...</td>\n      <td>Der VfR Hansa Elbing war ein deutscher Sportve...</td>\n      <td>der verein wurde im jahr 1910 als sc hansa 191...</td>\n      <td>1912 erfolgte die Umbenennung in VfR Hansa Elb...</td>\n      <td>0.135922</td>\n      <td>0.482759</td>\n      <td>0.212121</td>\n      <td>0.039216</td>\n      <td>0.142857</td>\n      <td>0.061538</td>\n      <td>...</td>\n      <td>0.352941</td>\n      <td>0.078947</td>\n      <td>0.107143</td>\n      <td>0.090909</td>\n      <td>0.027027</td>\n      <td>0.037037</td>\n      <td>0.031250</td>\n      <td>0.230769</td>\n      <td>0.310345</td>\n      <td>0.264706</td>\n    </tr>\n  </tbody>\n</table>\n<p>5 rows × 28 columns</p>\n</div>"
     },
     "execution_count": 16,
     "metadata": {},
     "output_type": "execute_result"
    }
   ],
   "source": [
    "checkpoint = '/home/michael/Workspaces/exp--pytorch-transformers/data/trained/2021-07-22-0756'\n",
    "df = read_file_to_object(f'{checkpoint}/scores.pkl')\n",
    "df.tail()"
   ],
   "metadata": {
    "collapsed": false,
    "pycharm": {
     "name": "#%%\n"
    }
   }
  },
  {
   "cell_type": "code",
   "execution_count": 17,
   "outputs": [
    {
     "name": "stderr",
     "output_type": "stream",
     "text": [
      "/tmp/ipykernel_42887/3380063166.py:1: FutureWarning: Dropping of nuisance columns in DataFrame reductions (with 'numeric_only=None') is deprecated; in a future version this will raise TypeError.  Select only valid columns before calling the reduction.\n",
      "  df.mean()\n"
     ]
    },
    {
     "data": {
      "text/plain": "r1p           0.182616\nr1r           0.321296\nr1f           0.213486\nr2p           0.047188\nr2r           0.090638\nr2f           0.056750\nr3p           0.018357\nr3r           0.035287\nr3f           0.022132\nrLp           0.124594\nrLr           0.230579\nrLf           0.148062\noracle_r1p    0.275339\noracle_r1r    0.261954\noracle_r1f    0.252719\noracle_r2p    0.073255\noracle_r2r    0.067260\noracle_r2f    0.065114\noracle_r3p    0.026664\noracle_r3r    0.022286\noracle_r3f    0.022179\noracle_rLp    0.195914\noracle_rLr    0.186267\noracle_rLf    0.179143\ndtype: float64"
     },
     "execution_count": 17,
     "metadata": {},
     "output_type": "execute_result"
    }
   ],
   "source": [
    "df.mean()"
   ],
   "metadata": {
    "collapsed": false,
    "pycharm": {
     "name": "#%%\n"
    }
   }
  },
  {
   "cell_type": "code",
   "execution_count": 6,
   "outputs": [
    {
     "name": "stdout",
     "output_type": "stream",
     "text": [
      "Der Talübergang Kasern ist eine 143 m lange und 17 m hohe Brücke der österreichischen Westautobahn A1 im Bereich der Stadt Salzburg. Der ursprüngliche Bau aus den Jahren um 1940 wurde 2011/2012 neu errichtet. Die Brücke ist Teil der Autobahnabfahrt Salzburg-Nord.\n"
     ]
    }
   ],
   "source": [
    "print(df.iloc[0]['summary'])"
   ],
   "metadata": {
    "collapsed": false,
    "pycharm": {
     "name": "#%%\n"
    }
   }
  },
  {
   "cell_type": "code",
   "execution_count": 7,
   "outputs": [
    {
     "name": "stdout",
     "output_type": "stream",
     "text": [
      "die brücke befindet sich 3,6 km nordnordöstlich der salzburger altstadt und unmittelbar westlich der autobahn-raststation kasern bei autobahnkilometer 289,0. sie liegt im grenzbereich der salzburger stadtteile kasern im norden und itzling im süden. die brückenkonstruktion besteht aus vier einzelnen tragwerken, zwei für die hauptfahrbahnen der autobahn und zwei für die trassen der ausfahrt, mit insgesamt neun fahrspuren. er verbindet die untere hanglage eines plainberg-ausläufers auf der westseite mit der ersten anhöhe des nussdorfer hügels im osten und stellt somit geländebedingt keinen wirklich markanten talübergang dar.\n"
     ]
    }
   ],
   "source": [
    "print(df.iloc[0]['summary_predicted'])"
   ],
   "metadata": {
    "collapsed": false,
    "pycharm": {
     "name": "#%%\n"
    }
   }
  },
  {
   "cell_type": "code",
   "execution_count": null,
   "outputs": [],
   "source": [],
   "metadata": {
    "collapsed": false,
    "pycharm": {
     "name": "#%%\n"
    }
   }
  }
 ],
 "metadata": {
  "kernelspec": {
   "display_name": "Python 3",
   "language": "python",
   "name": "python3"
  },
  "language_info": {
   "codemirror_mode": {
    "name": "ipython",
    "version": 2
   },
   "file_extension": ".py",
   "mimetype": "text/x-python",
   "name": "python",
   "nbconvert_exporter": "python",
   "pygments_lexer": "ipython2",
   "version": "2.7.6"
  }
 },
 "nbformat": 4,
 "nbformat_minor": 0
}