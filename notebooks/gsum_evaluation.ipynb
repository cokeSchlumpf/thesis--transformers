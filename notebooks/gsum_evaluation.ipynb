{
 "cells": [
  {
   "cell_type": "code",
   "execution_count": 18,
   "metadata": {
    "collapsed": true
   },
   "outputs": [],
   "source": [
    "from lib.utils import read_file_to_object, write_object_to_file\n",
    "from gsum.scoring import create_oracle_summary, extract_oracle_summary, calculate_rouge_scores\n",
    "\n",
    "import spacy"
   ]
  },
  {
   "cell_type": "code",
   "execution_count": 8,
   "outputs": [
    {
     "data": {
      "text/plain": "                                                 text  \\\n45  A health expert has slammed parents for not ta...   \n46  Francois Hollande has vowed to 'show no mercy'...   \n47  Patients who are too fat could be denied routi...   \n48  Forget fetching sticks. This musically-minded ...   \n49  A former lager lout who ballooned to 24 stone ...   \n\n                                              summary  \\\n45  Kilcoy State School working with Queensland He...   \n46  14 soldiers have been accused of abusing child...   \n47  More than a third of health trusts are conside...   \n48  Sadie the German Shepherd was filmed at home i...   \n49  Dale Forrest would go out drinking regularly a...   \n\n                                    summary_predicted       r1p       r1r  \\\n45  19 children at a primary school in north brisb...  0.300000  0.218182   \n46  french president francois [UNK] vows to show n...  0.420000  0.656250   \n47  more than a third of nhs trusts are considerin...  0.454545  0.425532   \n48  sadie the german shepherd was filmed at home [...  0.475410  0.453125   \n49  dale forrest, 26, from bolton, would sink up t...  0.285714  0.400000   \n\n         r1f       r2p       r2r       r2f       r3p       r3r       r3f  \\\n45  0.252632  0.128205  0.092593  0.107527  0.052632  0.037736  0.043956   \n46  0.512195  0.265306  0.419355  0.325000  0.187500  0.300000  0.230769   \n47  0.439560  0.232558  0.217391  0.224719  0.142857  0.133333  0.137931   \n48  0.464000  0.350000  0.333333  0.341463  0.305085  0.290323  0.297521   \n49  0.333333  0.101449  0.142857  0.118644  0.058824  0.083333  0.068966   \n\n         rLp       rLr       rLf  \n45  0.225000  0.163636  0.189474  \n46  0.360000  0.562500  0.439024  \n47  0.386364  0.361702  0.373626  \n48  0.442623  0.421875  0.432000  \n49  0.200000  0.280000  0.233333  ",
      "text/html": "<div>\n<style scoped>\n    .dataframe tbody tr th:only-of-type {\n        vertical-align: middle;\n    }\n\n    .dataframe tbody tr th {\n        vertical-align: top;\n    }\n\n    .dataframe thead th {\n        text-align: right;\n    }\n</style>\n<table border=\"1\" class=\"dataframe\">\n  <thead>\n    <tr style=\"text-align: right;\">\n      <th></th>\n      <th>text</th>\n      <th>summary</th>\n      <th>summary_predicted</th>\n      <th>r1p</th>\n      <th>r1r</th>\n      <th>r1f</th>\n      <th>r2p</th>\n      <th>r2r</th>\n      <th>r2f</th>\n      <th>r3p</th>\n      <th>r3r</th>\n      <th>r3f</th>\n      <th>rLp</th>\n      <th>rLr</th>\n      <th>rLf</th>\n    </tr>\n  </thead>\n  <tbody>\n    <tr>\n      <th>45</th>\n      <td>A health expert has slammed parents for not ta...</td>\n      <td>Kilcoy State School working with Queensland He...</td>\n      <td>19 children at a primary school in north brisb...</td>\n      <td>0.300000</td>\n      <td>0.218182</td>\n      <td>0.252632</td>\n      <td>0.128205</td>\n      <td>0.092593</td>\n      <td>0.107527</td>\n      <td>0.052632</td>\n      <td>0.037736</td>\n      <td>0.043956</td>\n      <td>0.225000</td>\n      <td>0.163636</td>\n      <td>0.189474</td>\n    </tr>\n    <tr>\n      <th>46</th>\n      <td>Francois Hollande has vowed to 'show no mercy'...</td>\n      <td>14 soldiers have been accused of abusing child...</td>\n      <td>french president francois [UNK] vows to show n...</td>\n      <td>0.420000</td>\n      <td>0.656250</td>\n      <td>0.512195</td>\n      <td>0.265306</td>\n      <td>0.419355</td>\n      <td>0.325000</td>\n      <td>0.187500</td>\n      <td>0.300000</td>\n      <td>0.230769</td>\n      <td>0.360000</td>\n      <td>0.562500</td>\n      <td>0.439024</td>\n    </tr>\n    <tr>\n      <th>47</th>\n      <td>Patients who are too fat could be denied routi...</td>\n      <td>More than a third of health trusts are conside...</td>\n      <td>more than a third of nhs trusts are considerin...</td>\n      <td>0.454545</td>\n      <td>0.425532</td>\n      <td>0.439560</td>\n      <td>0.232558</td>\n      <td>0.217391</td>\n      <td>0.224719</td>\n      <td>0.142857</td>\n      <td>0.133333</td>\n      <td>0.137931</td>\n      <td>0.386364</td>\n      <td>0.361702</td>\n      <td>0.373626</td>\n    </tr>\n    <tr>\n      <th>48</th>\n      <td>Forget fetching sticks. This musically-minded ...</td>\n      <td>Sadie the German Shepherd was filmed at home i...</td>\n      <td>sadie the german shepherd was filmed at home [...</td>\n      <td>0.475410</td>\n      <td>0.453125</td>\n      <td>0.464000</td>\n      <td>0.350000</td>\n      <td>0.333333</td>\n      <td>0.341463</td>\n      <td>0.305085</td>\n      <td>0.290323</td>\n      <td>0.297521</td>\n      <td>0.442623</td>\n      <td>0.421875</td>\n      <td>0.432000</td>\n    </tr>\n    <tr>\n      <th>49</th>\n      <td>A former lager lout who ballooned to 24 stone ...</td>\n      <td>Dale Forrest would go out drinking regularly a...</td>\n      <td>dale forrest, 26, from bolton, would sink up t...</td>\n      <td>0.285714</td>\n      <td>0.400000</td>\n      <td>0.333333</td>\n      <td>0.101449</td>\n      <td>0.142857</td>\n      <td>0.118644</td>\n      <td>0.058824</td>\n      <td>0.083333</td>\n      <td>0.068966</td>\n      <td>0.200000</td>\n      <td>0.280000</td>\n      <td>0.233333</td>\n    </tr>\n  </tbody>\n</table>\n</div>"
     },
     "execution_count": 8,
     "metadata": {},
     "output_type": "execute_result"
    }
   ],
   "source": [
    "checkpoint = '/home/michael/Workspaces/exp--pytorch-transformers/data/trained/2021-07-08-0858'\n",
    "df = read_file_to_object(f'{checkpoint}/scores.pkl')\n",
    "df.tail()"
   ],
   "metadata": {
    "collapsed": false,
    "pycharm": {
     "name": "#%%\n"
    }
   }
  },
  {
   "cell_type": "code",
   "execution_count": 9,
   "outputs": [
    {
     "data": {
      "text/plain": "(1640, 15)"
     },
     "execution_count": 9,
     "metadata": {},
     "output_type": "execute_result"
    }
   ],
   "source": [
    "df.shape"
   ],
   "metadata": {
    "collapsed": false,
    "pycharm": {
     "name": "#%%\n"
    }
   }
  },
  {
   "cell_type": "code",
   "execution_count": 10,
   "outputs": [
    {
     "name": "stderr",
     "output_type": "stream",
     "text": [
      "/home/michael/Workspaces/exp--pytorch-transformers/env/lib/python3.8/site-packages/spacy/util.py:730: UserWarning: [W095] Model 'en_core_web_sm' (3.0.0) was trained with spaCy v3.0 and may not be 100% compatible with the current version (3.1.1). If you see errors or degraded performance, download a newer compatible model or retrain your custom model with the current spaCy version. For more details and available updates, run: python -m spacy validate\n",
      "  warnings.warn(warn_msg)\n"
     ]
    }
   ],
   "source": [
    "lang = spacy.load('en_core_web_sm')\n",
    "df['summary_oracle'] = [create_oracle_summary(row['text'], row['summary'], lang, 256, 4) for _, row in df.iterrows()]"
   ],
   "metadata": {
    "collapsed": false,
    "pycharm": {
     "name": "#%%\n"
    }
   }
  },
  {
   "cell_type": "code",
   "execution_count": 11,
   "outputs": [],
   "source": [
    "df['summary_oracle_orig'] = [extract_oracle_summary(row['text'], row['summary'], lang, summary_length=3)[0]for _, row in df.iterrows()]"
   ],
   "metadata": {
    "collapsed": false,
    "pycharm": {
     "name": "#%%\n"
    }
   }
  },
  {
   "cell_type": "code",
   "execution_count": 15,
   "outputs": [],
   "source": [
    "df = calculate_rouge_scores(df, lang, predicted_col='summary_oracle', prefix='oracle_')\n",
    "df = calculate_rouge_scores(df, lang, predicted_col='summary_oracle_orig', prefix='oracle_orig_')"
   ],
   "metadata": {
    "collapsed": false,
    "pycharm": {
     "name": "#%%\n"
    }
   }
  },
  {
   "cell_type": "code",
   "execution_count": 16,
   "outputs": [
    {
     "data": {
      "text/plain": "                                                 text  \\\n0   Xiangyu Ouyang, 26, was on a state-sponsored s...   \n1   After weeks of being hounded  for a comment on...   \n0   (CNN)WikiLeaks founder Julian Assange has agre...   \n1   A drone carrying small traces of a radioactive...   \n0   The world's largest sperm bank is relocating n...   \n..                                                ...   \n45  A health expert has slammed parents for not ta...   \n46  Francois Hollande has vowed to 'show no mercy'...   \n47  Patients who are too fat could be denied routi...   \n48  Forget fetching sticks. This musically-minded ...   \n49  A former lager lout who ballooned to 24 stone ...   \n\n                                              summary  \\\n0   Singaporean A*Star scholarship recipient Xiang...   \n1   Former 2Day FM host Mel Greig penned an open n...   \n0   The WikiLeaks founder is wanted for questionin...   \n1   Remote control device had miniscule levels of ...   \n0   Cryos International is moving from New York to...   \n..                                                ...   \n45  Kilcoy State School working with Queensland He...   \n46  14 soldiers have been accused of abusing child...   \n47  More than a third of health trusts are conside...   \n48  Sadie the German Shepherd was filmed at home i...   \n49  Dale Forrest would go out drinking regularly a...   \n\n                                    summary_predicted       r1p       r1r  \\\n0   the 26 - year - old was on a state - sponsored...  0.339286  0.246753   \n1   mel [UNK] has written an open letter to the me...  0.425000  0.373626   \n0   julian [UNK] has been [UNK] up in the [UNK] em...  0.406250  0.448276   \n1   drone carrying small traces of radioactive mat...  0.140000  0.179487   \n0   [UNK] international, the world [UNK] largest s...  0.209677  0.260000   \n..                                                ...       ...       ...   \n45  19 children at a primary school in north brisb...  0.300000  0.218182   \n46  french president francois [UNK] vows to show n...  0.420000  0.656250   \n47  more than a third of nhs trusts are considerin...  0.454545  0.425532   \n48  sadie the german shepherd was filmed at home [...  0.475410  0.453125   \n49  dale forrest, 26, from bolton, would sink up t...  0.285714  0.400000   \n\n         r1f       r2p       r2r       r2f       r3p  ...  oracle_orig_r1f  \\\n0   0.285714  0.036364  0.026316  0.030534  0.018519  ...         0.438710   \n1   0.397661  0.177215  0.155556  0.165680  0.115385  ...         0.500000   \n0   0.426230  0.258065  0.285714  0.271186  0.166667  ...         0.484848   \n1   0.157303  0.040816  0.052632  0.045977  0.000000  ...         0.285714   \n0   0.232143  0.081967  0.102041  0.090909  0.033333  ...         0.457143   \n..       ...       ...       ...       ...       ...  ...              ...   \n45  0.252632  0.128205  0.092593  0.107527  0.052632  ...         0.495050   \n46  0.512195  0.265306  0.419355  0.325000  0.187500  ...         0.582278   \n47  0.439560  0.232558  0.217391  0.224719  0.142857  ...         0.567901   \n48  0.464000  0.350000  0.333333  0.341463  0.305085  ...         0.740741   \n49  0.333333  0.101449  0.142857  0.118644  0.058824  ...         0.344828   \n\n    oracle_orig_r2p  oracle_orig_r2r  oracle_orig_r2f  oracle_orig_r3p  \\\n0          0.090909         0.092105         0.091503         0.039474   \n1          0.275000         0.244444         0.258824         0.151899   \n0          0.361111         0.464286         0.406250         0.342857   \n1          0.086957         0.052632         0.065574         0.000000   \n0          0.259259         0.285714         0.271845         0.113208   \n..              ...              ...              ...              ...   \n45         0.311111         0.259259         0.282828         0.181818   \n46         0.347826         0.516129         0.415584         0.311111   \n47         0.363636         0.260870         0.303797         0.281250   \n48         0.837209         0.571429         0.679245         0.761905   \n49         0.107692         0.142857         0.122807         0.031250   \n\n   oracle_orig_r3r oracle_orig_r3f  oracle_orig_rLp  oracle_orig_rLr  \\\n0         0.040000        0.039735         0.166667         0.168831   \n1         0.134831        0.142857         0.370370         0.329670   \n0         0.444444        0.387097         0.378378         0.482759   \n1         0.000000        0.000000         0.166667         0.102564   \n0         0.125000        0.118812         0.418182         0.460000   \n..             ...             ...              ...              ...   \n45        0.150943        0.164948         0.391304         0.327273   \n46        0.466667        0.373333         0.255319         0.375000   \n47        0.200000        0.233766         0.588235         0.425532   \n48        0.516129        0.615385         0.909091         0.625000   \n49        0.041667        0.035714         0.151515         0.200000   \n\n    oracle_orig_rLf  \n0          0.167742  \n1          0.348837  \n0          0.424242  \n1          0.126984  \n0          0.438095  \n..              ...  \n45         0.356436  \n46         0.303797  \n47         0.493827  \n48         0.740741  \n49         0.172414  \n\n[1640 rows x 41 columns]",
      "text/html": "<div>\n<style scoped>\n    .dataframe tbody tr th:only-of-type {\n        vertical-align: middle;\n    }\n\n    .dataframe tbody tr th {\n        vertical-align: top;\n    }\n\n    .dataframe thead th {\n        text-align: right;\n    }\n</style>\n<table border=\"1\" class=\"dataframe\">\n  <thead>\n    <tr style=\"text-align: right;\">\n      <th></th>\n      <th>text</th>\n      <th>summary</th>\n      <th>summary_predicted</th>\n      <th>r1p</th>\n      <th>r1r</th>\n      <th>r1f</th>\n      <th>r2p</th>\n      <th>r2r</th>\n      <th>r2f</th>\n      <th>r3p</th>\n      <th>...</th>\n      <th>oracle_orig_r1f</th>\n      <th>oracle_orig_r2p</th>\n      <th>oracle_orig_r2r</th>\n      <th>oracle_orig_r2f</th>\n      <th>oracle_orig_r3p</th>\n      <th>oracle_orig_r3r</th>\n      <th>oracle_orig_r3f</th>\n      <th>oracle_orig_rLp</th>\n      <th>oracle_orig_rLr</th>\n      <th>oracle_orig_rLf</th>\n    </tr>\n  </thead>\n  <tbody>\n    <tr>\n      <th>0</th>\n      <td>Xiangyu Ouyang, 26, was on a state-sponsored s...</td>\n      <td>Singaporean A*Star scholarship recipient Xiang...</td>\n      <td>the 26 - year - old was on a state - sponsored...</td>\n      <td>0.339286</td>\n      <td>0.246753</td>\n      <td>0.285714</td>\n      <td>0.036364</td>\n      <td>0.026316</td>\n      <td>0.030534</td>\n      <td>0.018519</td>\n      <td>...</td>\n      <td>0.438710</td>\n      <td>0.090909</td>\n      <td>0.092105</td>\n      <td>0.091503</td>\n      <td>0.039474</td>\n      <td>0.040000</td>\n      <td>0.039735</td>\n      <td>0.166667</td>\n      <td>0.168831</td>\n      <td>0.167742</td>\n    </tr>\n    <tr>\n      <th>1</th>\n      <td>After weeks of being hounded  for a comment on...</td>\n      <td>Former 2Day FM host Mel Greig penned an open n...</td>\n      <td>mel [UNK] has written an open letter to the me...</td>\n      <td>0.425000</td>\n      <td>0.373626</td>\n      <td>0.397661</td>\n      <td>0.177215</td>\n      <td>0.155556</td>\n      <td>0.165680</td>\n      <td>0.115385</td>\n      <td>...</td>\n      <td>0.500000</td>\n      <td>0.275000</td>\n      <td>0.244444</td>\n      <td>0.258824</td>\n      <td>0.151899</td>\n      <td>0.134831</td>\n      <td>0.142857</td>\n      <td>0.370370</td>\n      <td>0.329670</td>\n      <td>0.348837</td>\n    </tr>\n    <tr>\n      <th>0</th>\n      <td>(CNN)WikiLeaks founder Julian Assange has agre...</td>\n      <td>The WikiLeaks founder is wanted for questionin...</td>\n      <td>julian [UNK] has been [UNK] up in the [UNK] em...</td>\n      <td>0.406250</td>\n      <td>0.448276</td>\n      <td>0.426230</td>\n      <td>0.258065</td>\n      <td>0.285714</td>\n      <td>0.271186</td>\n      <td>0.166667</td>\n      <td>...</td>\n      <td>0.484848</td>\n      <td>0.361111</td>\n      <td>0.464286</td>\n      <td>0.406250</td>\n      <td>0.342857</td>\n      <td>0.444444</td>\n      <td>0.387097</td>\n      <td>0.378378</td>\n      <td>0.482759</td>\n      <td>0.424242</td>\n    </tr>\n    <tr>\n      <th>1</th>\n      <td>A drone carrying small traces of a radioactive...</td>\n      <td>Remote control device had miniscule levels of ...</td>\n      <td>drone carrying small traces of radioactive mat...</td>\n      <td>0.140000</td>\n      <td>0.179487</td>\n      <td>0.157303</td>\n      <td>0.040816</td>\n      <td>0.052632</td>\n      <td>0.045977</td>\n      <td>0.000000</td>\n      <td>...</td>\n      <td>0.285714</td>\n      <td>0.086957</td>\n      <td>0.052632</td>\n      <td>0.065574</td>\n      <td>0.000000</td>\n      <td>0.000000</td>\n      <td>0.000000</td>\n      <td>0.166667</td>\n      <td>0.102564</td>\n      <td>0.126984</td>\n    </tr>\n    <tr>\n      <th>0</th>\n      <td>The world's largest sperm bank is relocating n...</td>\n      <td>Cryos International is moving from New York to...</td>\n      <td>[UNK] international, the world [UNK] largest s...</td>\n      <td>0.209677</td>\n      <td>0.260000</td>\n      <td>0.232143</td>\n      <td>0.081967</td>\n      <td>0.102041</td>\n      <td>0.090909</td>\n      <td>0.033333</td>\n      <td>...</td>\n      <td>0.457143</td>\n      <td>0.259259</td>\n      <td>0.285714</td>\n      <td>0.271845</td>\n      <td>0.113208</td>\n      <td>0.125000</td>\n      <td>0.118812</td>\n      <td>0.418182</td>\n      <td>0.460000</td>\n      <td>0.438095</td>\n    </tr>\n    <tr>\n      <th>...</th>\n      <td>...</td>\n      <td>...</td>\n      <td>...</td>\n      <td>...</td>\n      <td>...</td>\n      <td>...</td>\n      <td>...</td>\n      <td>...</td>\n      <td>...</td>\n      <td>...</td>\n      <td>...</td>\n      <td>...</td>\n      <td>...</td>\n      <td>...</td>\n      <td>...</td>\n      <td>...</td>\n      <td>...</td>\n      <td>...</td>\n      <td>...</td>\n      <td>...</td>\n      <td>...</td>\n    </tr>\n    <tr>\n      <th>45</th>\n      <td>A health expert has slammed parents for not ta...</td>\n      <td>Kilcoy State School working with Queensland He...</td>\n      <td>19 children at a primary school in north brisb...</td>\n      <td>0.300000</td>\n      <td>0.218182</td>\n      <td>0.252632</td>\n      <td>0.128205</td>\n      <td>0.092593</td>\n      <td>0.107527</td>\n      <td>0.052632</td>\n      <td>...</td>\n      <td>0.495050</td>\n      <td>0.311111</td>\n      <td>0.259259</td>\n      <td>0.282828</td>\n      <td>0.181818</td>\n      <td>0.150943</td>\n      <td>0.164948</td>\n      <td>0.391304</td>\n      <td>0.327273</td>\n      <td>0.356436</td>\n    </tr>\n    <tr>\n      <th>46</th>\n      <td>Francois Hollande has vowed to 'show no mercy'...</td>\n      <td>14 soldiers have been accused of abusing child...</td>\n      <td>french president francois [UNK] vows to show n...</td>\n      <td>0.420000</td>\n      <td>0.656250</td>\n      <td>0.512195</td>\n      <td>0.265306</td>\n      <td>0.419355</td>\n      <td>0.325000</td>\n      <td>0.187500</td>\n      <td>...</td>\n      <td>0.582278</td>\n      <td>0.347826</td>\n      <td>0.516129</td>\n      <td>0.415584</td>\n      <td>0.311111</td>\n      <td>0.466667</td>\n      <td>0.373333</td>\n      <td>0.255319</td>\n      <td>0.375000</td>\n      <td>0.303797</td>\n    </tr>\n    <tr>\n      <th>47</th>\n      <td>Patients who are too fat could be denied routi...</td>\n      <td>More than a third of health trusts are conside...</td>\n      <td>more than a third of nhs trusts are considerin...</td>\n      <td>0.454545</td>\n      <td>0.425532</td>\n      <td>0.439560</td>\n      <td>0.232558</td>\n      <td>0.217391</td>\n      <td>0.224719</td>\n      <td>0.142857</td>\n      <td>...</td>\n      <td>0.567901</td>\n      <td>0.363636</td>\n      <td>0.260870</td>\n      <td>0.303797</td>\n      <td>0.281250</td>\n      <td>0.200000</td>\n      <td>0.233766</td>\n      <td>0.588235</td>\n      <td>0.425532</td>\n      <td>0.493827</td>\n    </tr>\n    <tr>\n      <th>48</th>\n      <td>Forget fetching sticks. This musically-minded ...</td>\n      <td>Sadie the German Shepherd was filmed at home i...</td>\n      <td>sadie the german shepherd was filmed at home [...</td>\n      <td>0.475410</td>\n      <td>0.453125</td>\n      <td>0.464000</td>\n      <td>0.350000</td>\n      <td>0.333333</td>\n      <td>0.341463</td>\n      <td>0.305085</td>\n      <td>...</td>\n      <td>0.740741</td>\n      <td>0.837209</td>\n      <td>0.571429</td>\n      <td>0.679245</td>\n      <td>0.761905</td>\n      <td>0.516129</td>\n      <td>0.615385</td>\n      <td>0.909091</td>\n      <td>0.625000</td>\n      <td>0.740741</td>\n    </tr>\n    <tr>\n      <th>49</th>\n      <td>A former lager lout who ballooned to 24 stone ...</td>\n      <td>Dale Forrest would go out drinking regularly a...</td>\n      <td>dale forrest, 26, from bolton, would sink up t...</td>\n      <td>0.285714</td>\n      <td>0.400000</td>\n      <td>0.333333</td>\n      <td>0.101449</td>\n      <td>0.142857</td>\n      <td>0.118644</td>\n      <td>0.058824</td>\n      <td>...</td>\n      <td>0.344828</td>\n      <td>0.107692</td>\n      <td>0.142857</td>\n      <td>0.122807</td>\n      <td>0.031250</td>\n      <td>0.041667</td>\n      <td>0.035714</td>\n      <td>0.151515</td>\n      <td>0.200000</td>\n      <td>0.172414</td>\n    </tr>\n  </tbody>\n</table>\n<p>1640 rows × 41 columns</p>\n</div>"
     },
     "execution_count": 16,
     "metadata": {},
     "output_type": "execute_result"
    }
   ],
   "source": [
    "df"
   ],
   "metadata": {
    "collapsed": false,
    "pycharm": {
     "name": "#%%\n"
    }
   }
  },
  {
   "cell_type": "code",
   "execution_count": 19,
   "outputs": [],
   "source": [
    "\n",
    "write_object_to_file('/home/michael/Workspaces/exp--pytorch-transformers/data/trained/2021-07-08-0858/scores.pkl', df)"
   ],
   "metadata": {
    "collapsed": false,
    "pycharm": {
     "name": "#%%\n"
    }
   }
  },
  {
   "cell_type": "code",
   "execution_count": null,
   "outputs": [],
   "source": [],
   "metadata": {
    "collapsed": false,
    "pycharm": {
     "name": "#%%\n"
    }
   }
  }
 ],
 "metadata": {
  "kernelspec": {
   "display_name": "Python 3",
   "language": "python",
   "name": "python3"
  },
  "language_info": {
   "codemirror_mode": {
    "name": "ipython",
    "version": 2
   },
   "file_extension": ".py",
   "mimetype": "text/x-python",
   "name": "python",
   "nbconvert_exporter": "python",
   "pygments_lexer": "ipython2",
   "version": "2.7.6"
  }
 },
 "nbformat": 4,
 "nbformat_minor": 0
}