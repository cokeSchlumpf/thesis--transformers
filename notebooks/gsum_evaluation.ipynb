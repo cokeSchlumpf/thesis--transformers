{
 "cells": [
  {
   "cell_type": "code",
   "execution_count": 23,
   "metadata": {
    "collapsed": true
   },
   "outputs": [],
   "source": [
    "from lib.utils import read_file_to_object"
   ]
  },
  {
   "cell_type": "code",
   "execution_count": 24,
   "outputs": [
    {
     "data": {
      "text/plain": "                                                 text  \\\n20  Ahead of this weekend's Premier League action,...   \n21  A Disney World employee allegedly inappropriat...   \n22  Baseball may not have a reputation for being a...   \n23  It sparked a hate campaign and was dubbed so t...   \n24  The potential domestic auction for Liverpool's...   \n\n                                              summary  \\\n20  Danny Welbeck faces fitness test for Arsenal f...   \n21  Taylor Davis, 20, was seen in the Kissimmee, F...   \n22  Thursday's match between  two baseball heavywe...   \n23  A statue of Lucille Ball in Celeron, New York ...   \n24  Raheem Sterling's potential move from Liverpoo...   \n\n                                    summary_predicted  \\\n20  danny [UNK] will face a fitness test on the kn...   \n21  taylor davis, 20, was seen in the [UNK], flori...   \n22  [UNK] ejected a total of five players from bot...   \n23  the statue of the i love lucy statue was unvei...   \n24  [UNK] sterling could be sold by chelsea, manch...   \n\n                                       summary_oracle       r1p       r1r  \\\n20  Arsenal forward Danny Welbeck will face a fitn...  0.230769  0.173077   \n21  Taylor Davis 20 was seen in the Kissimmee Flor...  0.581818  0.444444   \n22  Umpires ejected a total of five players from b...  0.318841  0.478261   \n23  But the statue of Lucille Ball which was so of...  0.370370  0.222222   \n24  The potential domestic auction for Liverpool s...  0.520833  0.257732   \n\n         r1f       r2p       r2r       r2f  ...  oracle_r1f  oracle_r2p  \\\n20  0.197802  0.026316  0.019608  0.022472  ...    0.166667    0.069767   \n21  0.503937  0.388889  0.295775  0.336000  ...    0.490566    0.545455   \n22  0.382609  0.147059  0.222222  0.176991  ...    0.468085    0.234043   \n23  0.277778  0.115385  0.068182  0.085714  ...    0.392157    0.125000   \n24  0.344828  0.212766  0.104167  0.139860  ...    0.531073    0.316456   \n\n    oracle_r2r  oracle_r2f  oracle_r3p  oracle_r3r  oracle_r3f  oracle_rLp  \\\n20    0.058824    0.063830    0.000000    0.000000    0.000000    0.136364   \n21    0.253521    0.346154    0.468750    0.214286    0.294118    0.676471   \n22    0.244444    0.239130    0.108696    0.113636    0.111111    0.229167   \n23    0.159091    0.140000    0.036364    0.046512    0.040816    0.210526   \n24    0.260417    0.285714    0.192308    0.157895    0.173410    0.375000   \n\n    oracle_rLr  oracle_rLf  \n20    0.115385    0.125000  \n21    0.319444    0.433962  \n22    0.239130    0.234043  \n23    0.266667    0.235294  \n24    0.309278    0.338983  \n\n[5 rows x 28 columns]",
      "text/html": "<div>\n<style scoped>\n    .dataframe tbody tr th:only-of-type {\n        vertical-align: middle;\n    }\n\n    .dataframe tbody tr th {\n        vertical-align: top;\n    }\n\n    .dataframe thead th {\n        text-align: right;\n    }\n</style>\n<table border=\"1\" class=\"dataframe\">\n  <thead>\n    <tr style=\"text-align: right;\">\n      <th></th>\n      <th>text</th>\n      <th>summary</th>\n      <th>summary_predicted</th>\n      <th>summary_oracle</th>\n      <th>r1p</th>\n      <th>r1r</th>\n      <th>r1f</th>\n      <th>r2p</th>\n      <th>r2r</th>\n      <th>r2f</th>\n      <th>...</th>\n      <th>oracle_r1f</th>\n      <th>oracle_r2p</th>\n      <th>oracle_r2r</th>\n      <th>oracle_r2f</th>\n      <th>oracle_r3p</th>\n      <th>oracle_r3r</th>\n      <th>oracle_r3f</th>\n      <th>oracle_rLp</th>\n      <th>oracle_rLr</th>\n      <th>oracle_rLf</th>\n    </tr>\n  </thead>\n  <tbody>\n    <tr>\n      <th>20</th>\n      <td>Ahead of this weekend's Premier League action,...</td>\n      <td>Danny Welbeck faces fitness test for Arsenal f...</td>\n      <td>danny [UNK] will face a fitness test on the kn...</td>\n      <td>Arsenal forward Danny Welbeck will face a fitn...</td>\n      <td>0.230769</td>\n      <td>0.173077</td>\n      <td>0.197802</td>\n      <td>0.026316</td>\n      <td>0.019608</td>\n      <td>0.022472</td>\n      <td>...</td>\n      <td>0.166667</td>\n      <td>0.069767</td>\n      <td>0.058824</td>\n      <td>0.063830</td>\n      <td>0.000000</td>\n      <td>0.000000</td>\n      <td>0.000000</td>\n      <td>0.136364</td>\n      <td>0.115385</td>\n      <td>0.125000</td>\n    </tr>\n    <tr>\n      <th>21</th>\n      <td>A Disney World employee allegedly inappropriat...</td>\n      <td>Taylor Davis, 20, was seen in the Kissimmee, F...</td>\n      <td>taylor davis, 20, was seen in the [UNK], flori...</td>\n      <td>Taylor Davis 20 was seen in the Kissimmee Flor...</td>\n      <td>0.581818</td>\n      <td>0.444444</td>\n      <td>0.503937</td>\n      <td>0.388889</td>\n      <td>0.295775</td>\n      <td>0.336000</td>\n      <td>...</td>\n      <td>0.490566</td>\n      <td>0.545455</td>\n      <td>0.253521</td>\n      <td>0.346154</td>\n      <td>0.468750</td>\n      <td>0.214286</td>\n      <td>0.294118</td>\n      <td>0.676471</td>\n      <td>0.319444</td>\n      <td>0.433962</td>\n    </tr>\n    <tr>\n      <th>22</th>\n      <td>Baseball may not have a reputation for being a...</td>\n      <td>Thursday's match between  two baseball heavywe...</td>\n      <td>[UNK] ejected a total of five players from bot...</td>\n      <td>Umpires ejected a total of five players from b...</td>\n      <td>0.318841</td>\n      <td>0.478261</td>\n      <td>0.382609</td>\n      <td>0.147059</td>\n      <td>0.222222</td>\n      <td>0.176991</td>\n      <td>...</td>\n      <td>0.468085</td>\n      <td>0.234043</td>\n      <td>0.244444</td>\n      <td>0.239130</td>\n      <td>0.108696</td>\n      <td>0.113636</td>\n      <td>0.111111</td>\n      <td>0.229167</td>\n      <td>0.239130</td>\n      <td>0.234043</td>\n    </tr>\n    <tr>\n      <th>23</th>\n      <td>It sparked a hate campaign and was dubbed so t...</td>\n      <td>A statue of Lucille Ball in Celeron, New York ...</td>\n      <td>the statue of the i love lucy statue was unvei...</td>\n      <td>But the statue of Lucille Ball which was so of...</td>\n      <td>0.370370</td>\n      <td>0.222222</td>\n      <td>0.277778</td>\n      <td>0.115385</td>\n      <td>0.068182</td>\n      <td>0.085714</td>\n      <td>...</td>\n      <td>0.392157</td>\n      <td>0.125000</td>\n      <td>0.159091</td>\n      <td>0.140000</td>\n      <td>0.036364</td>\n      <td>0.046512</td>\n      <td>0.040816</td>\n      <td>0.210526</td>\n      <td>0.266667</td>\n      <td>0.235294</td>\n    </tr>\n    <tr>\n      <th>24</th>\n      <td>The potential domestic auction for Liverpool's...</td>\n      <td>Raheem Sterling's potential move from Liverpoo...</td>\n      <td>[UNK] sterling could be sold by chelsea, manch...</td>\n      <td>The potential domestic auction for Liverpool s...</td>\n      <td>0.520833</td>\n      <td>0.257732</td>\n      <td>0.344828</td>\n      <td>0.212766</td>\n      <td>0.104167</td>\n      <td>0.139860</td>\n      <td>...</td>\n      <td>0.531073</td>\n      <td>0.316456</td>\n      <td>0.260417</td>\n      <td>0.285714</td>\n      <td>0.192308</td>\n      <td>0.157895</td>\n      <td>0.173410</td>\n      <td>0.375000</td>\n      <td>0.309278</td>\n      <td>0.338983</td>\n    </tr>\n  </tbody>\n</table>\n<p>5 rows × 28 columns</p>\n</div>"
     },
     "execution_count": 24,
     "metadata": {},
     "output_type": "execute_result"
    }
   ],
   "source": [
    "checkpoint = '/home/michael/Workspaces/exp--pytorch-transformers/data/trained/2021-07-25-2022'\n",
    "df = read_file_to_object(f'{checkpoint}/scores.pkl')\n",
    "df.tail()"
   ],
   "metadata": {
    "collapsed": false,
    "pycharm": {
     "name": "#%%\n"
    }
   }
  },
  {
   "cell_type": "code",
   "execution_count": 25,
   "outputs": [
    {
     "name": "stderr",
     "output_type": "stream",
     "text": [
      "/tmp/ipykernel_76206/3380063166.py:1: FutureWarning: Dropping of nuisance columns in DataFrame reductions (with 'numeric_only=None') is deprecated; in a future version this will raise TypeError.  Select only valid columns before calling the reduction.\n",
      "  df.mean()\n"
     ]
    },
    {
     "data": {
      "text/plain": "r1p           0.369203\nr1r           0.322306\nr1f           0.333373\nr2p           0.144200\nr2r           0.124562\nr2f           0.129271\nr3p           0.078157\nr3r           0.065989\nr3f           0.069106\nrLp           0.262586\nrLr           0.229371\nrLf           0.237051\noracle_r1p    0.478171\noracle_r1r    0.483230\noracle_r1f    0.464936\noracle_r2p    0.252452\noracle_r2r    0.246961\noracle_r2f    0.240417\noracle_r3p    0.159953\noracle_r3r    0.151243\noracle_r3f    0.149163\noracle_rLp    0.324454\noracle_rLr    0.320123\noracle_rLf    0.310845\ndtype: float64"
     },
     "execution_count": 25,
     "metadata": {},
     "output_type": "execute_result"
    }
   ],
   "source": [
    "df.mean()"
   ],
   "metadata": {
    "collapsed": false,
    "pycharm": {
     "name": "#%%\n"
    }
   }
  },
  {
   "cell_type": "code",
   "execution_count": 26,
   "outputs": [
    {
     "name": "stdout",
     "output_type": "stream",
     "text": [
      "A graphic on NBC's Today show on Wednesday misidentified Saturday Night Live creator Lorne Michaels as 'Lauren' The flub by a graphics person, made on the East Coast feed of the morning show, was corrected for broadcasts in other time zones and online . Today interviewed 70-year-old Michaels for a story  on New York gathering for influential people listed by TIME magazine .\n"
     ]
    }
   ],
   "source": [
    "print(df.iloc[7]['summary'])"
   ],
   "metadata": {
    "collapsed": false,
    "pycharm": {
     "name": "#%%\n"
    }
   }
  },
  {
   "cell_type": "code",
   "execution_count": 27,
   "outputs": [
    {
     "name": "stdout",
     "output_type": "stream",
     "text": [
      "today had interviewed 70 - year - old [UNK] michaels for a story matt [UNK] did on a new york gathering for people listed by time magazine as the 100 most influential in the world. the [UNK] married father - of - three made up part of the titans category on the list compiled by time, which included rapper kanye west, apple ceo tim cook and kim [UNK].\n"
     ]
    }
   ],
   "source": [
    "print(df.iloc[7]['summary_predicted'])"
   ],
   "metadata": {
    "collapsed": false,
    "pycharm": {
     "name": "#%%\n"
    }
   }
  },
  {
   "cell_type": "code",
   "execution_count": null,
   "outputs": [],
   "source": [],
   "metadata": {
    "collapsed": false,
    "pycharm": {
     "name": "#%%\n"
    }
   }
  }
 ],
 "metadata": {
  "kernelspec": {
   "display_name": "Python 3",
   "language": "python",
   "name": "python3"
  },
  "language_info": {
   "codemirror_mode": {
    "name": "ipython",
    "version": 2
   },
   "file_extension": ".py",
   "mimetype": "text/x-python",
   "name": "python",
   "nbconvert_exporter": "python",
   "pygments_lexer": "ipython2",
   "version": "2.7.6"
  }
 },
 "nbformat": 4,
 "nbformat_minor": 0
}