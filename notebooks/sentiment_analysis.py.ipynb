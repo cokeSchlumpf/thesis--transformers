{
 "cells": [
  {
   "cell_type": "code",
   "execution_count": 54,
   "metadata": {
    "collapsed": true
   },
   "outputs": [],
   "source": [
    "import pandas as pd\n",
    "import spacy\n",
    "\n",
    "from lib.text_preprocessing import preprocess_text, clean_html, to_lower, simple_punctuation_only, lemmatize, remove_stopwords\n",
    "from sklearn.metrics import classification_report, confusion_matrix, accuracy_score\n",
    "from sklearn.model_selection import train_test_split\n",
    "from sklearn.preprocessing import LabelEncoder\n",
    "from sklearn.feature_extraction.text import TfidfVectorizer\n",
    "from tqdm.auto import tqdm\n",
    "from typing import Dict, List, Optional, Union\n",
    "\n",
    "tqdm.pandas()"
   ]
  },
  {
   "cell_type": "code",
   "execution_count": 30,
   "outputs": [],
   "source": [
    "lang = spacy.load('en_core_web_sm')\n",
    "pipeline = [lemmatize, remove_stopwords, simple_punctuation_only, to_lower]"
   ],
   "metadata": {
    "collapsed": false,
    "pycharm": {
     "name": "#%%\n"
    }
   }
  },
  {
   "cell_type": "code",
   "execution_count": 32,
   "outputs": [
    {
     "data": {
      "text/plain": "  0%|          | 0/1000 [00:00<?, ?it/s]",
      "application/vnd.jupyter.widget-view+json": {
       "version_major": 2,
       "version_minor": 0,
       "model_id": "df5ed1405fcc4f5c88e0b894e58376f5"
      }
     },
     "metadata": {},
     "output_type": "display_data"
    },
    {
     "data": {
      "text/plain": "                                              review sentiment  \\\n0  One of the other reviewers has mentioned that ...  positive   \n1  A wonderful little production. <br /><br />The...  positive   \n2  I thought this was a wonderful way to spend ti...  positive   \n3  Basically there's a family where a little boy ...  negative   \n4  Petter Mattei's \"Love in the Time of Money\" is...  positive   \n\n                                        review_clean  \n0  reviewer mention watch 1 oz episode hook. righ...  \n1  wonderful little production. filming technique...  \n2  think wonderful way spend time hot summer week...  \n3  basically family little boy (jake) think zombi...  \n4  petter mattei love time money visually stunnin...  ",
      "text/html": "<div>\n<style scoped>\n    .dataframe tbody tr th:only-of-type {\n        vertical-align: middle;\n    }\n\n    .dataframe tbody tr th {\n        vertical-align: top;\n    }\n\n    .dataframe thead th {\n        text-align: right;\n    }\n</style>\n<table border=\"1\" class=\"dataframe\">\n  <thead>\n    <tr style=\"text-align: right;\">\n      <th></th>\n      <th>review</th>\n      <th>sentiment</th>\n      <th>review_clean</th>\n    </tr>\n  </thead>\n  <tbody>\n    <tr>\n      <th>0</th>\n      <td>One of the other reviewers has mentioned that ...</td>\n      <td>positive</td>\n      <td>reviewer mention watch 1 oz episode hook. righ...</td>\n    </tr>\n    <tr>\n      <th>1</th>\n      <td>A wonderful little production. &lt;br /&gt;&lt;br /&gt;The...</td>\n      <td>positive</td>\n      <td>wonderful little production. filming technique...</td>\n    </tr>\n    <tr>\n      <th>2</th>\n      <td>I thought this was a wonderful way to spend ti...</td>\n      <td>positive</td>\n      <td>think wonderful way spend time hot summer week...</td>\n    </tr>\n    <tr>\n      <th>3</th>\n      <td>Basically there's a family where a little boy ...</td>\n      <td>negative</td>\n      <td>basically family little boy (jake) think zombi...</td>\n    </tr>\n    <tr>\n      <th>4</th>\n      <td>Petter Mattei's \"Love in the Time of Money\" is...</td>\n      <td>positive</td>\n      <td>petter mattei love time money visually stunnin...</td>\n    </tr>\n  </tbody>\n</table>\n</div>"
     },
     "execution_count": 32,
     "metadata": {},
     "output_type": "execute_result"
    }
   ],
   "source": [
    "df = pd.read_csv('../data/raw/IMDB Dataset.csv')\n",
    "df = df[:1000]\n",
    "\n",
    "df['review_clean'] = df['review'].progress_apply(lambda s: preprocess_text(s, lang, pipeline, [clean_html]))\n",
    "df.head()"
   ],
   "metadata": {
    "collapsed": false,
    "pycharm": {
     "name": "#%%\n"
    }
   }
  },
  {
   "cell_type": "code",
   "execution_count": 40,
   "outputs": [],
   "source": [
    "X_train, X_test = train_test_split(df, train_size=0.7, random_state=42)"
   ],
   "metadata": {
    "collapsed": false,
    "pycharm": {
     "name": "#%%\n"
    }
   }
  },
  {
   "cell_type": "code",
   "execution_count": 41,
   "outputs": [
    {
     "data": {
      "text/plain": "                                                review sentiment  \\\n541  An idiotic dentist finds out that his wife has...  negative   \n440  This movie is lame and not funny at all. The p...  negative   \n482  Weak,stale, tired, cliched; wants to be Basic ...  negative   \n422  First and foremost, I loved the novel by Ray B...  negative   \n778  I never watched the 'Next Action Hero' show, a...  positive   \n..                                                 ...       ...   \n106  The performance of every actor and actress (in...  positive   \n270  Clifton Webb is one of my favorites. However, ...  negative   \n860  This production was quite a surprise for me. I...  positive   \n435  You wear only the best Italian suits from Arma...  positive   \n102  I bought this game on an impulse buy from walm...  positive   \n\n                                          review_clean  \n541  idiotic dentist find wife unfaithful. , new st...  \n440  movie lame funny . plot sense. scientist work ...  \n482  weak,stale, tired, cliched; want basic instinc...  \n422  foremost, love novel ray bradbury. kind horror...  \n778  watch action hero , read comment , know movie ...  \n..                                                 ...  \n106  performance actor actress ( film) excellently ...  \n270  clifton webb favorite. , mister scoutmaster go...  \n860  production surprise . absolutely love obscure ...  \n435  wear good italian suit armani, hand stitch fit...  \n102  buy game impulse buy walmart. glad . entertain...  \n\n[700 rows x 3 columns]",
      "text/html": "<div>\n<style scoped>\n    .dataframe tbody tr th:only-of-type {\n        vertical-align: middle;\n    }\n\n    .dataframe tbody tr th {\n        vertical-align: top;\n    }\n\n    .dataframe thead th {\n        text-align: right;\n    }\n</style>\n<table border=\"1\" class=\"dataframe\">\n  <thead>\n    <tr style=\"text-align: right;\">\n      <th></th>\n      <th>review</th>\n      <th>sentiment</th>\n      <th>review_clean</th>\n    </tr>\n  </thead>\n  <tbody>\n    <tr>\n      <th>541</th>\n      <td>An idiotic dentist finds out that his wife has...</td>\n      <td>negative</td>\n      <td>idiotic dentist find wife unfaithful. , new st...</td>\n    </tr>\n    <tr>\n      <th>440</th>\n      <td>This movie is lame and not funny at all. The p...</td>\n      <td>negative</td>\n      <td>movie lame funny . plot sense. scientist work ...</td>\n    </tr>\n    <tr>\n      <th>482</th>\n      <td>Weak,stale, tired, cliched; wants to be Basic ...</td>\n      <td>negative</td>\n      <td>weak,stale, tired, cliched; want basic instinc...</td>\n    </tr>\n    <tr>\n      <th>422</th>\n      <td>First and foremost, I loved the novel by Ray B...</td>\n      <td>negative</td>\n      <td>foremost, love novel ray bradbury. kind horror...</td>\n    </tr>\n    <tr>\n      <th>778</th>\n      <td>I never watched the 'Next Action Hero' show, a...</td>\n      <td>positive</td>\n      <td>watch action hero , read comment , know movie ...</td>\n    </tr>\n    <tr>\n      <th>...</th>\n      <td>...</td>\n      <td>...</td>\n      <td>...</td>\n    </tr>\n    <tr>\n      <th>106</th>\n      <td>The performance of every actor and actress (in...</td>\n      <td>positive</td>\n      <td>performance actor actress ( film) excellently ...</td>\n    </tr>\n    <tr>\n      <th>270</th>\n      <td>Clifton Webb is one of my favorites. However, ...</td>\n      <td>negative</td>\n      <td>clifton webb favorite. , mister scoutmaster go...</td>\n    </tr>\n    <tr>\n      <th>860</th>\n      <td>This production was quite a surprise for me. I...</td>\n      <td>positive</td>\n      <td>production surprise . absolutely love obscure ...</td>\n    </tr>\n    <tr>\n      <th>435</th>\n      <td>You wear only the best Italian suits from Arma...</td>\n      <td>positive</td>\n      <td>wear good italian suit armani, hand stitch fit...</td>\n    </tr>\n    <tr>\n      <th>102</th>\n      <td>I bought this game on an impulse buy from walm...</td>\n      <td>positive</td>\n      <td>buy game impulse buy walmart. glad . entertain...</td>\n    </tr>\n  </tbody>\n</table>\n<p>700 rows × 3 columns</p>\n</div>"
     },
     "execution_count": 41,
     "metadata": {},
     "output_type": "execute_result"
    }
   ],
   "source": [
    "X_train"
   ],
   "metadata": {
    "collapsed": false,
    "pycharm": {
     "name": "#%%\n"
    }
   }
  },
  {
   "cell_type": "code",
   "execution_count": 38,
   "outputs": [
    {
     "ename": "NameError",
     "evalue": "name 'Y_test' is not defined",
     "output_type": "error",
     "traceback": [
      "\u001B[0;31m---------------------------------------------------------------------------\u001B[0m",
      "\u001B[0;31mNameError\u001B[0m                                 Traceback (most recent call last)",
      "\u001B[0;32m<ipython-input-38-9823bd7070f7>\u001B[0m in \u001B[0;36m<module>\u001B[0;34m\u001B[0m\n\u001B[0;32m----> 1\u001B[0;31m \u001B[0mY_test\u001B[0m\u001B[0;34m\u001B[0m\u001B[0;34m\u001B[0m\u001B[0m\n\u001B[0m",
      "\u001B[0;31mNameError\u001B[0m: name 'Y_test' is not defined"
     ]
    }
   ],
   "source": [
    "Y_test"
   ],
   "metadata": {
    "collapsed": false,
    "pycharm": {
     "name": "#%%\n"
    }
   }
  },
  {
   "cell_type": "code",
   "execution_count": 4,
   "outputs": [
    {
     "data": {
      "text/plain": "(1000,)"
     },
     "execution_count": 4,
     "metadata": {},
     "output_type": "execute_result"
    }
   ],
   "source": [
    "enc = LabelEncoder()\n",
    "enc.fit(df['sentiment'].to_numpy())\n",
    "y = enc.transform(df['sentiment'])\n",
    "y.shape"
   ],
   "metadata": {
    "collapsed": false,
    "pycharm": {
     "name": "#%%\n"
    }
   }
  },
  {
   "cell_type": "code",
   "execution_count": 5,
   "outputs": [
    {
     "data": {
      "text/plain": "(1000, 17922)"
     },
     "execution_count": 5,
     "metadata": {},
     "output_type": "execute_result"
    }
   ],
   "source": [
    "vectorizer = TfidfVectorizer(max_features=50000)\n",
    "X = vectorizer.fit_transform(df['review'])\n",
    "X.shape"
   ],
   "metadata": {
    "collapsed": false,
    "pycharm": {
     "name": "#%%\n"
    }
   }
  },
  {
   "cell_type": "code",
   "execution_count": 20,
   "outputs": [
    {
     "data": {
      "text/plain": "17922"
     },
     "execution_count": 20,
     "metadata": {},
     "output_type": "execute_result"
    }
   ],
   "source": [
    "len(vectorizer.get_feature_names())"
   ],
   "metadata": {
    "collapsed": false,
    "pycharm": {
     "name": "#%%\n"
    }
   }
  },
  {
   "cell_type": "code",
   "execution_count": 6,
   "outputs": [
    {
     "data": {
      "text/plain": "((800, 17922), (200, 17922), (800,), (200,))"
     },
     "execution_count": 6,
     "metadata": {},
     "output_type": "execute_result"
    }
   ],
   "source": [
    "X_train, X_test, y_train, y_test = train_test_split(X, y, test_size=0.2, random_state=42)\n",
    "(X_train.shape, X_test.shape, y_train.shape, y_test.shape)"
   ],
   "metadata": {
    "collapsed": false,
    "pycharm": {
     "name": "#%%\n"
    }
   }
  },
  {
   "cell_type": "code",
   "execution_count": 7,
   "outputs": [
    {
     "data": {
      "text/plain": "RandomForestClassifier(n_estimators=200, random_state=42)"
     },
     "execution_count": 7,
     "metadata": {},
     "output_type": "execute_result"
    }
   ],
   "source": [
    "from sklearn.ensemble import RandomForestClassifier\n",
    "\n",
    "text_classifier = RandomForestClassifier(n_estimators=200, random_state=42)\n",
    "text_classifier.fit(X_train, y_train)"
   ],
   "metadata": {
    "collapsed": false,
    "pycharm": {
     "name": "#%%\n"
    }
   }
  },
  {
   "cell_type": "code",
   "execution_count": 8,
   "outputs": [
    {
     "name": "stdout",
     "output_type": "stream",
     "text": [
      "[[81 23]\n",
      " [23 73]]\n",
      "              precision    recall  f1-score   support\n",
      "\n",
      "           0       0.78      0.78      0.78       104\n",
      "           1       0.76      0.76      0.76        96\n",
      "\n",
      "    accuracy                           0.77       200\n",
      "   macro avg       0.77      0.77      0.77       200\n",
      "weighted avg       0.77      0.77      0.77       200\n",
      "\n",
      "0.77\n"
     ]
    }
   ],
   "source": [
    "predictions = text_classifier.predict(X_test)\n",
    "print(confusion_matrix(y_test,predictions))\n",
    "print(classification_report(y_test,predictions))\n",
    "print(accuracy_score(y_test, predictions))"
   ],
   "metadata": {
    "collapsed": false,
    "pycharm": {
     "name": "#%%\n"
    }
   }
  },
  {
   "cell_type": "code",
   "execution_count": 70,
   "outputs": [
    {
     "data": {
      "text/plain": "(1000, 17922)"
     },
     "execution_count": 70,
     "metadata": {},
     "output_type": "execute_result"
    }
   ],
   "source": [
    "X.shape"
   ],
   "metadata": {
    "collapsed": false,
    "pycharm": {
     "name": "#%%\n"
    }
   }
  },
  {
   "cell_type": "code",
   "source": [
    "import pytorch_lightning as pl\n",
    "import torch\n",
    "import torch.nn.functional as F\n",
    "\n",
    "from torch import nn\n",
    "from torch.utils.data import Dataset, DataLoader\n",
    "\n",
    "X_train_t = torch.from_numpy(X_train.toarray())\n",
    "X_test_t = torch.from_numpy(X_test.toarray())\n",
    "y_train_t = torch.from_numpy(y_train)\n",
    "y_test_t = torch.from_numpy(y_test)\n",
    "\n",
    "X_t = torch.from_numpy(X.toarray()).type(torch.FloatTensor)\n",
    "y_t = torch.from_numpy(y).type(torch.FloatTensor)\n",
    "\n",
    "class SentimentDataset(Dataset):\n",
    "\n",
    "    def __init__(self):\n",
    "        pass\n",
    "\n",
    "    def __len__(self):\n",
    "        return X.shape[0]\n",
    "\n",
    "    def __getitem__(self, idx):\n",
    "        return [X_t[idx], y_t[idx]]\n",
    "\n",
    "\n",
    "class SentimentDataModule(pl.LightningDataModule):\n",
    "\n",
    "    def __init__(self):\n",
    "        super().__init__()\n",
    "        pass\n",
    "\n",
    "    def prepare_data(self) -> None:\n",
    "        pass\n",
    "\n",
    "    def setup(self, stage: Optional[str] = None) -> None:\n",
    "        pass\n",
    "\n",
    "    def train_dataloader(self) -> Union[DataLoader, List[DataLoader], Dict[str, DataLoader]]:\n",
    "        dataset = SentimentDataset()\n",
    "        return DataLoader(dataset, batch_size=250)\n",
    "\n",
    "    def val_dataloader(self) -> Union[DataLoader, List[DataLoader]]:\n",
    "        dataset = SentimentDataset()\n",
    "        return DataLoader(dataset, batch_size=250)\n",
    "\n",
    "    def test_dataloader(self) -> Union[DataLoader, List[DataLoader]]:\n",
    "        dataset = SentimentDataset()\n",
    "        return DataLoader(dataset, batch_size=10)\n",
    "\n",
    "\n",
    "class SentimentClassifier(pl.LightningModule):\n",
    "\n",
    "    def __init__(self):\n",
    "        super().__init__()\n",
    "        self.model = nn.Sequential(\n",
    "            nn.Linear(X_train_t.shape[1], 64),\n",
    "            nn.ReLU(),\n",
    "            nn.Linear(64, 2),\n",
    "            nn.LogSoftmax(dim=1))\n",
    "\n",
    "    def forward(self, X):\n",
    "        return self.model(X)\n",
    "\n",
    "    def training_step(self, batch, batch_idx):\n",
    "        X, y = batch\n",
    "        z = self(X)\n",
    "        loss = F.nll_loss(z, y.type(torch.LongTensor))\n",
    "        self.log('train_loss', loss, prog_bar=True, on_epoch=True)\n",
    "        return loss\n",
    "\n",
    "    def validation_step(self, batch, batch_idx):\n",
    "        X, y = batch\n",
    "        z = self(X)\n",
    "        loss = F.nll_loss(z, y.type(torch.LongTensor))\n",
    "        self.log('validation_loss', loss, prog_bar=True, on_epoch=True)\n",
    "        return loss\n",
    "\n",
    "    def configure_optimizers(self):\n",
    "        return torch.optim.Adam(self.parameters(), lr=0.002)\n",
    "\n",
    "(X_t.shape, y_t.shape)"
   ],
   "metadata": {
    "collapsed": false,
    "pycharm": {
     "name": "#%%\n"
    }
   },
   "execution_count": 17,
   "outputs": [
    {
     "data": {
      "text/plain": "(torch.Size([1000, 17922]), torch.Size([1000]))"
     },
     "execution_count": 17,
     "metadata": {},
     "output_type": "execute_result"
    }
   ]
  },
  {
   "cell_type": "code",
   "execution_count": 53,
   "outputs": [
    {
     "data": {
      "text/plain": "tensor([ 1,  2,  3,  4,  5,  6,  7,  8,  9, 10])"
     },
     "execution_count": 53,
     "metadata": {},
     "output_type": "execute_result"
    }
   ],
   "source": [
    "t = torch.tensor([1,2,3,4,5,6,7,8,9,10, 11, 12])\n",
    "m = torch.zeros(10)\n",
    "F.pad(t, [0, 10 - t.shape[0]], mode='constant', value=0)"
   ],
   "metadata": {
    "collapsed": false,
    "pycharm": {
     "name": "#%%\n"
    }
   }
  },
  {
   "cell_type": "code",
   "execution_count": 18,
   "outputs": [
    {
     "name": "stderr",
     "output_type": "stream",
     "text": [
      "GPU available: True, used: False\n",
      "TPU available: False, using: 0 TPU cores\n",
      "/home/michael/Workspaces/exp--pytorch-transformers/env/lib/python3.8/site-packages/pytorch_lightning/utilities/distributed.py:69: UserWarning: GPU available but not used. Set the gpus flag in your trainer `Trainer(gpus=1)` or script `--gpus=1`.\n",
      "  warnings.warn(*args, **kwargs)\n",
      "\n",
      "  | Name  | Type       | Params\n",
      "-------------------------------------\n",
      "0 | model | Sequential | 1.1 M \n",
      "-------------------------------------\n",
      "1.1 M     Trainable params\n",
      "0         Non-trainable params\n",
      "1.1 M     Total params\n",
      "4.589     Total estimated model params size (MB)\n"
     ]
    },
    {
     "data": {
      "text/plain": "Validation sanity check: 0it [00:00, ?it/s]",
      "application/vnd.jupyter.widget-view+json": {
       "version_major": 2,
       "version_minor": 0,
       "model_id": "47be409b4f74428ab9894e939d92cc51"
      }
     },
     "metadata": {},
     "output_type": "display_data"
    },
    {
     "name": "stderr",
     "output_type": "stream",
     "text": [
      "/home/michael/Workspaces/exp--pytorch-transformers/env/lib/python3.8/site-packages/pytorch_lightning/utilities/distributed.py:69: UserWarning: The dataloader, val dataloader 0, does not have many workers which may be a bottleneck. Consider increasing the value of the `num_workers` argument` (try 16 which is the number of cpus on this machine) in the `DataLoader` init to improve performance.\n",
      "  warnings.warn(*args, **kwargs)\n",
      "/home/michael/Workspaces/exp--pytorch-transformers/env/lib/python3.8/site-packages/pytorch_lightning/utilities/distributed.py:69: UserWarning: The dataloader, train dataloader, does not have many workers which may be a bottleneck. Consider increasing the value of the `num_workers` argument` (try 16 which is the number of cpus on this machine) in the `DataLoader` init to improve performance.\n",
      "  warnings.warn(*args, **kwargs)\n"
     ]
    },
    {
     "data": {
      "text/plain": "Training: 0it [00:00, ?it/s]",
      "application/vnd.jupyter.widget-view+json": {
       "version_major": 2,
       "version_minor": 0,
       "model_id": "1bef9c5fffe245d79500e2a5d42f3b92"
      }
     },
     "metadata": {},
     "output_type": "display_data"
    },
    {
     "data": {
      "text/plain": "Validating: 0it [00:00, ?it/s]",
      "application/vnd.jupyter.widget-view+json": {
       "version_major": 2,
       "version_minor": 0,
       "model_id": "afc9c2ff940e49c684a56b0fa5d86740"
      }
     },
     "metadata": {},
     "output_type": "display_data"
    },
    {
     "data": {
      "text/plain": "Validating: 0it [00:00, ?it/s]",
      "application/vnd.jupyter.widget-view+json": {
       "version_major": 2,
       "version_minor": 0,
       "model_id": "f8c05cbd5a90465889bd20d504e6189c"
      }
     },
     "metadata": {},
     "output_type": "display_data"
    },
    {
     "data": {
      "text/plain": "Validating: 0it [00:00, ?it/s]",
      "application/vnd.jupyter.widget-view+json": {
       "version_major": 2,
       "version_minor": 0,
       "model_id": "fe0c2361403d4d84b1a65fa7357ac33a"
      }
     },
     "metadata": {},
     "output_type": "display_data"
    },
    {
     "data": {
      "text/plain": "Validating: 0it [00:00, ?it/s]",
      "application/vnd.jupyter.widget-view+json": {
       "version_major": 2,
       "version_minor": 0,
       "model_id": "e949d0066a28499ca99c13d0232e42cc"
      }
     },
     "metadata": {},
     "output_type": "display_data"
    },
    {
     "data": {
      "text/plain": "Validating: 0it [00:00, ?it/s]",
      "application/vnd.jupyter.widget-view+json": {
       "version_major": 2,
       "version_minor": 0,
       "model_id": "faad3c589e064273bf870420ab94b1b9"
      }
     },
     "metadata": {},
     "output_type": "display_data"
    }
   ],
   "source": [
    "data = SentimentDataModule()\n",
    "classifier = SentimentClassifier()\n",
    "\n",
    "trainer = pl.Trainer(max_epochs=5)\n",
    "trainer.fit(classifier, data)"
   ],
   "metadata": {
    "collapsed": false,
    "pycharm": {
     "name": "#%%\n"
    }
   }
  },
  {
   "cell_type": "code",
   "execution_count": 23,
   "outputs": [
    {
     "data": {
      "text/plain": "tensor([[0.1000, 0.2000],\n        [2.0000, 3.0000]])"
     },
     "execution_count": 23,
     "metadata": {},
     "output_type": "execute_result"
    }
   ],
   "source": [
    "a = [torch.tensor([0.1, 0.2]), torch.tensor([2,3])]\n",
    "torch.stack(a)"
   ],
   "metadata": {
    "collapsed": false,
    "pycharm": {
     "name": "#%%\n"
    }
   }
  },
  {
   "cell_type": "code",
   "execution_count": 63,
   "outputs": [
    {
     "data": {
      "text/plain": "<2x17922 sparse matrix of type '<class 'numpy.float64'>'\n\twith 2 stored elements in Compressed Sparse Row format>"
     },
     "execution_count": 63,
     "metadata": {},
     "output_type": "execute_result"
    }
   ],
   "source": [
    "vectorizer.transform(['hello world', 'wuhuuu'])"
   ],
   "metadata": {
    "collapsed": false,
    "pycharm": {
     "name": "#%%\n"
    }
   }
  },
  {
   "cell_type": "code",
   "execution_count": 61,
   "outputs": [
    {
     "data": {
      "text/plain": "(tensor([[0.6378, 0.2236, 0.1385],\n         [0.2834, 0.1194, 0.5971],\n         [0.0962, 0.5562, 0.3475],\n         [0.7077, 0.0109, 0.2815],\n         [0.1490, 0.1711, 0.6798],\n         [0.1536, 0.7008, 0.1457],\n         [0.5729, 0.2285, 0.1986],\n         [0.1283, 0.7184, 0.1532],\n         [0.3433, 0.4774, 0.1793],\n         [0.4072, 0.4145, 0.1783]]),\n tensor([[ 0.8071, -0.2411, -0.7198],\n         [ 0.1799, -0.6843,  0.9251],\n         [-1.1688,  0.5857,  0.1154],\n         [ 1.1061, -3.0716,  0.1841],\n         [-0.5397, -0.4013,  0.9780],\n         [-0.7005,  0.8174, -0.7535],\n         [-0.0708, -0.9902, -1.1304],\n         [-0.2136,  1.5091, -0.0359],\n         [ 0.0146,  0.3444, -0.6347],\n         [ 1.0143,  1.0318,  0.1884]]))"
     },
     "execution_count": 61,
     "metadata": {},
     "output_type": "execute_result"
    }
   ],
   "source": [
    "m = nn.Softmax(dim=1)\n",
    "input = torch.randn(10, 3)\n",
    "m(input), input"
   ],
   "metadata": {
    "collapsed": false,
    "pycharm": {
     "name": "#%%\n"
    }
   }
  },
  {
   "cell_type": "code",
   "execution_count": null,
   "outputs": [],
   "source": [],
   "metadata": {
    "collapsed": false,
    "pycharm": {
     "name": "#%%\n"
    }
   }
  }
 ],
 "metadata": {
  "kernelspec": {
   "display_name": "Python 3",
   "language": "python",
   "name": "python3"
  },
  "language_info": {
   "codemirror_mode": {
    "name": "ipython",
    "version": 2
   },
   "file_extension": ".py",
   "mimetype": "text/x-python",
   "name": "python",
   "nbconvert_exporter": "python",
   "pygments_lexer": "ipython2",
   "version": "2.7.6"
  }
 },
 "nbformat": 4,
 "nbformat_minor": 0
}