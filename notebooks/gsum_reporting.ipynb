{
 "cells": [
  {
   "cell_type": "code",
   "execution_count": 32,
   "metadata": {},
   "outputs": [],
   "source": [
    "import sys, os\n",
    "import pandas as pd\n",
    "sys.path.append('..')"
   ]
  },
  {
   "cell_type": "code",
   "execution_count": 33,
   "metadata": {},
   "outputs": [],
   "source": [
    "from lib.utils import read_file_to_object"
   ]
  },
  {
   "cell_type": "code",
   "execution_count": 34,
   "metadata": {},
   "outputs": [],
   "source": [
    "def get_model_score(scores, model_name = 'model', prefix = ''):\n",
    "    return {\n",
    "        'model': model_name, \n",
    "        'r1': '{:.2f}'.format(scores[f'{prefix}r1f']),\n",
    "        'r2': '{:.2f}'.format(scores[f'{prefix}r2f']), \n",
    "        'r3': '{:.2f}'.format(scores[f'{prefix}r3f']),\n",
    "        'rL': '{:.2f}'.format(scores[f'{prefix}rLf'])\n",
    "    }\n",
    "\n",
    "def create_report(checkpoint = '2021-07-29-1458'):\n",
    "    checkpoint_path = f'../data/trained/{checkpoint}/scores.pkl'\n",
    "    df = read_file_to_object(checkpoint_path)\n",
    "    \n",
    "    scores = df.mean()\n",
    "    report_scores = pd.DataFrame(\n",
    "        columns = ['model', 'r1', 'r2', 'r3', 'rL'],\n",
    "        data = [\n",
    "            get_model_score(scores),\n",
    "            get_model_score(scores, 'Oracle (256)', 'oracle_'),\n",
    "            get_model_score(scores, 'Oracle', 'oracle_orig_')\n",
    "        ]\n",
    "    )\n",
    "\n",
    "    return report_scores, df\n",
    "\n",
    "def print_sample(df, id):\n",
    "    print('SUMMARY')\n",
    "    print(df.iloc[id]['summary'])\n",
    "    print()\n",
    "    print('---')\n",
    "    print()\n",
    "    print('MODEL SUMMARY')\n",
    "    print(df.iloc[id]['summary_predicted'])"
   ]
  },
  {
   "cell_type": "code",
   "execution_count": 4,
   "metadata": {},
   "outputs": [
    {
     "name": "stderr",
     "output_type": "stream",
     "text": [
      "/tmp/ipykernel_220617/3119066244.py:14: FutureWarning: Dropping of nuisance columns in DataFrame reductions (with 'numeric_only=None') is deprecated; in a future version this will raise TypeError.  Select only valid columns before calling the reduction.\n",
      "  scores = df.mean()\n"
     ]
    },
    {
     "data": {
      "text/plain": "          model    r1    r2    r3    rL\n0         model  0.29  0.17  0.13  0.27\n1  Oracle (256)  0.43  0.29  0.23  0.37\n2        Oracle  0.43  0.29  0.23  0.37",
      "text/html": "<div>\n<style scoped>\n    .dataframe tbody tr th:only-of-type {\n        vertical-align: middle;\n    }\n\n    .dataframe tbody tr th {\n        vertical-align: top;\n    }\n\n    .dataframe thead th {\n        text-align: right;\n    }\n</style>\n<table border=\"1\" class=\"dataframe\">\n  <thead>\n    <tr style=\"text-align: right;\">\n      <th></th>\n      <th>model</th>\n      <th>r1</th>\n      <th>r2</th>\n      <th>r3</th>\n      <th>rL</th>\n    </tr>\n  </thead>\n  <tbody>\n    <tr>\n      <th>0</th>\n      <td>model</td>\n      <td>0.29</td>\n      <td>0.17</td>\n      <td>0.13</td>\n      <td>0.27</td>\n    </tr>\n    <tr>\n      <th>1</th>\n      <td>Oracle (256)</td>\n      <td>0.43</td>\n      <td>0.29</td>\n      <td>0.23</td>\n      <td>0.37</td>\n    </tr>\n    <tr>\n      <th>2</th>\n      <td>Oracle</td>\n      <td>0.43</td>\n      <td>0.29</td>\n      <td>0.23</td>\n      <td>0.37</td>\n    </tr>\n  </tbody>\n</table>\n</div>"
     },
     "execution_count": 4,
     "metadata": {},
     "output_type": "execute_result"
    }
   ],
   "source": [
    "report, df = create_report('2021-07-30-0034')\n",
    "report"
   ]
  },
  {
   "cell_type": "code",
   "execution_count": 34,
   "metadata": {},
   "outputs": [
    {
     "data": {
      "text/plain": [
       "'\\\\begin{tabular}{llllll}\\n\\\\toprule\\n{} &         model &    r1 &    r2 &    r3 &    rL \\\\\\\\\\n\\\\midrule\\n0 &         model &  0.10 &  0.06 &  0.05 &  0.09 \\\\\\\\\\n1 &  Oracle (256) &  0.47 &  0.34 &  0.28 &  0.42 \\\\\\\\\\n2 &        Oracle &  0.47 &  0.34 &  0.29 &  0.42 \\\\\\\\\\n\\\\bottomrule\\n\\\\end{tabular}\\n'"
      ]
     },
     "execution_count": 34,
     "metadata": {},
     "output_type": "execute_result"
    }
   ],
   "source": [
    "report.to_latex()"
   ]
  },
  {
   "cell_type": "code",
   "execution_count": 13,
   "metadata": {
    "pycharm": {
     "name": "#%%\n"
    }
   },
   "outputs": [
    {
     "name": "stdout",
     "output_type": "stream",
     "text": [
      "SUMMARY\n",
      "Bei einem Krisentreffen in Berlin einigen sich Deutschland und Österreich auf Maßnahmen gegen den massiven Transitverkehr in Richtung Süden. An den umstrittenen Fahrverboten will Tirol aber festhalten.\n",
      "\n",
      "---\n",
      "\n",
      "MODEL SUMMARY\n",
      "österreich und österreich einigen sich an der grenze zu verbessern. [UNK] der [UNK] will die [UNK] für lastwagen bleiben.\n"
     ]
    }
   ],
   "source": [
    "print_sample(df, 16)"
   ]
  },
  {
   "cell_type": "code",
   "execution_count": 31,
   "metadata": {
    "pycharm": {
     "name": "#%%\n"
    }
   },
   "outputs": [
    {
     "name": "stdout",
     "output_type": "stream",
     "text": [
      "SUMMARY\n",
      "Noch liegt der Garantiezins für Lebensversicherungen bei 0,9 Prozent. Doch spätestens 2021 könnte er weiter deutlich fallen. Damit würde Riestern schlagartig unattraktiv.\n",
      "\n",
      "---\n",
      "\n",
      "MODEL SUMMARY\n",
      "weil die zinsen so niedrig sind, müssen sich die [UNK] bald komplett aus dem verkauf der staatlich [UNK] verabschieden. [UNK] das befürchten manager wichtiger [UNK].\n"
     ]
    }
   ],
   "source": [
    "print_sample(df.sort_values(by=['rLf']), 22)"
   ]
  },
  {
   "cell_type": "code",
   "execution_count": null,
   "outputs": [],
   "source": [],
   "metadata": {
    "collapsed": false,
    "pycharm": {
     "name": "#%%\n"
    }
   }
  }
 ],
 "metadata": {
  "kernelspec": {
   "display_name": "Python 3 (ipykernel)",
   "language": "python",
   "name": "python3"
  },
  "language_info": {
   "codemirror_mode": {
    "name": "ipython",
    "version": 3
   },
   "file_extension": ".py",
   "mimetype": "text/x-python",
   "name": "python",
   "nbconvert_exporter": "python",
   "pygments_lexer": "ipython3",
   "version": "3.8.10"
  }
 },
 "nbformat": 4,
 "nbformat_minor": 1
}