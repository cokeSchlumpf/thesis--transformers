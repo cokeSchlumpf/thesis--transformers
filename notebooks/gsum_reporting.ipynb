{
 "cells": [
  {
   "cell_type": "code",
   "execution_count": 18,
   "metadata": {},
   "outputs": [],
   "source": [
    "import sys, os\n",
    "import pandas as pd\n",
    "sys.path.append('..')"
   ]
  },
  {
   "cell_type": "code",
   "execution_count": 19,
   "metadata": {},
   "outputs": [],
   "source": [
    "from lib.utils import read_file_to_object"
   ]
  },
  {
   "cell_type": "code",
   "execution_count": 74,
   "metadata": {},
   "outputs": [],
   "source": [
    "def get_model_score(scores, model_name = 'model', prefix = ''):\n",
    "    return {\n",
    "        'model': model_name, \n",
    "        'r1': '{:.2f}'.format(scores[f'{prefix}r1p']),\n",
    "        'r2': '{:.2f}'.format(scores[f'{prefix}r2p']),\n",
    "        'r3': '{:.2f}'.format(scores[f'{prefix}r3p']),\n",
    "        'rL': '{:.2f}'.format(scores[f'{prefix}rLp'])\n",
    "    }\n",
    "\n",
    "def create_report(checkpoint = '2021-07-25-2022'):\n",
    "    checkpoint_path = f'../data/trained/{checkpoint}/scores.pkl'\n",
    "    df = read_file_to_object(checkpoint_path)\n",
    "    \n",
    "    scores = df.mean()\n",
    "    report_scores = pd.DataFrame(\n",
    "        columns = ['model', 'r1', 'r2', 'r3', 'rL'],\n",
    "        data = [\n",
    "            get_model_score(scores),\n",
    "            get_model_score(scores, 'Oracle (256)', 'oracle_'),\n",
    "            get_model_score(scores, 'Oracle', 'oracle_orig_')\n",
    "        ]\n",
    "    )\n",
    "\n",
    "    return report_scores, df\n",
    "\n",
    "def print_sample(df, id):\n",
    "    print('TEXT')\n",
    "    print(df.iloc[id]['text'])\n",
    "    print()\n",
    "    print('---')\n",
    "    print()\n",
    "    print('SUMMARY')\n",
    "    print(df.iloc[id]['summary'])\n",
    "    print()\n",
    "    print('---')\n",
    "    print()\n",
    "    print('MODEL SUMMARY')\n",
    "    print(df.iloc[id]['summary_predicted'])"
   ]
  },
  {
   "cell_type": "code",
   "execution_count": 82,
   "metadata": {},
   "outputs": [
    {
     "data": {
      "text/plain": "          model    r1    r2    r3    rL\n0         model  0.30  0.10  0.04  0.26\n1  Oracle (256)  0.27  0.07  0.03  0.19\n2        Oracle  0.27  0.07  0.03  0.19",
      "text/html": "<div>\n<style scoped>\n    .dataframe tbody tr th:only-of-type {\n        vertical-align: middle;\n    }\n\n    .dataframe tbody tr th {\n        vertical-align: top;\n    }\n\n    .dataframe thead th {\n        text-align: right;\n    }\n</style>\n<table border=\"1\" class=\"dataframe\">\n  <thead>\n    <tr style=\"text-align: right;\">\n      <th></th>\n      <th>model</th>\n      <th>r1</th>\n      <th>r2</th>\n      <th>r3</th>\n      <th>rL</th>\n    </tr>\n  </thead>\n  <tbody>\n    <tr>\n      <th>0</th>\n      <td>model</td>\n      <td>0.30</td>\n      <td>0.10</td>\n      <td>0.04</td>\n      <td>0.26</td>\n    </tr>\n    <tr>\n      <th>1</th>\n      <td>Oracle (256)</td>\n      <td>0.27</td>\n      <td>0.07</td>\n      <td>0.03</td>\n      <td>0.19</td>\n    </tr>\n    <tr>\n      <th>2</th>\n      <td>Oracle</td>\n      <td>0.27</td>\n      <td>0.07</td>\n      <td>0.03</td>\n      <td>0.19</td>\n    </tr>\n  </tbody>\n</table>\n</div>"
     },
     "execution_count": 82,
     "metadata": {},
     "output_type": "execute_result"
    }
   ],
   "source": [
    "report, df = create_report('2021-07-30-0330')\n",
    "report"
   ]
  },
  {
   "cell_type": "code",
   "execution_count": 71,
   "metadata": {},
   "outputs": [
    {
     "name": "stdout",
     "output_type": "stream",
     "text": [
      "\\begin{tabular}{llllll}\n",
      "\\toprule\n",
      "{} &         model &    r1 &    r2 &    r3 &    rL \\\\\n",
      "\\midrule\n",
      "0 &         model &  0.28 &  0.16 &  0.12 &  0.26 \\\\\n",
      "1 &  Oracle (256) &  0.45 &  0.31 &  0.25 &  0.38 \\\\\n",
      "2 &        Oracle &  0.45 &  0.31 &  0.25 &  0.38 \\\\\n",
      "\\bottomrule\n",
      "\\end{tabular}\n",
      "\n"
     ]
    }
   ],
   "source": [
    "print(report.to_latex())"
   ]
  },
  {
   "cell_type": "code",
   "execution_count": 76,
   "metadata": {
    "pycharm": {
     "name": "#%%\n"
    }
   },
   "outputs": [
    {
     "name": "stdout",
     "output_type": "stream",
     "text": [
      "TEXT\n",
      "Beteiligte am Cum-Ex-Skandal sollen deutlich länger als bisher noch belangt werden können. Bundestagsfraktionen der CDU/CSU und SPD einigten sich darauf, die Verjährungsfrist für schwere Steuerhinterziehung von zehn auf 15 Jahren anzuheben. Die Uhr tickt, denn viele Cum-Ex-Aktiendeals könnten nach geltender Rechtslage ab Anfang 2021 nicht mehr als Straftat geahndet werden. Daher sollen Bundestag und Bundesrat noch vor Weihnachten zustimmen. Zuvor hatte die »Rheinische Post« berichtet.  Zuletzt war nur eine Anhebung auf 12 Jahre geplant, nun werden es mehr. Ein Grund: In den Beratungen war es als möglich erachtet worden, dass bei einer 12-Jahre-Vorgabe einige Cum-Ex-Profiteure doch noch durchs Raster fallen und strafrechtlich nicht mehr belangt werden könnten. Mit der 15-Jahre-Frist haben die Behörden nun mehr Zeit, um die bisher noch im Dunkeln liegenden Fälle zu erkennen und vor Gericht zu bringen. Stand Ende Oktober waren bei der zentral zuständigen Kölner Staatsanwaltschaft 69 Strafverfahren anhängig gegen 927 natürliche Personen, Tendenz steigend.  Bei den Cum-Ex-Geschäften handelten Banken mit Aktien vor (cum) und nach (ex) Auszahlung der Aktiendividenden. Dazu wurden rund um den Dividendenstichtag Aktien mit (cum) und ohne (ex) Ausschüttungsanspruch zwischen mehreren Beteiligten hin- und hergeschoben. Finanzämter erstatteten dann Kapitalertragsteuern, die gar nicht gezahlt worden waren. Dem Staat entstand so ein Schaden, der sich auf 30 Milliarden Euro belaufen könnte.  Bei der Gesetzesänderung besteht Zeitdruck, weil viele Cum-Ex-Beteiligte im Jahr 2010 ihre Deals steuerlich geltend gemacht haben – diese Fälle wären nach der noch geltenden Rechtslage Anfang 2021 verjährt. Es gibt noch einen zweiten Punkt, der im Rahmen der Steuerreform für Cum-Ex relevant ist: So sollen rechtswidrig erlangte Gewinne auch in verjährten Fällen eingezogen werden können. Sollte also selbst die 15-Jahre-Frist nicht ausreichen, um Licht ins Dunkel zu bringen, könnten Finanzjongleure zwar strafrechtlich nicht mehr belangt werden – ihre Cum-Ex-Gewinne zulasten der Allgemeinheit müssten sie aber abgeben.  »Die Botschaft ist klar«, sagte SPD-Fraktionsvize Achim Post der »Rheinischen Post«. »Wir wollen, dass kein Cum-Ex-Täter mit schwerer Steuerhinterziehung straf- und schadlos davonkommt.« Sein Pendant in der Unionsfraktion, Andreas Jung, begrüßte die Änderung ebenfalls – er pochte auf »null Toleranz« bei Cum-Ex-Fällen.  Auch für Nordrhein-Westfalens Justizminister Peter Biesenbach (CDU) ist die Berliner Einigung eine gute Nachricht und eine Bestätigung seiner Haltung – er hatte sich in einer Bundesratsinitiative schon vor längerer Zeit für die 15-Jahre-Frist ausgesprochen. Dementsprechend zufrieden war er. Mit der Anhebung der Frist werde es möglich, noch mehr Cum-Ex-Beteiligte dingfest zu machen, erklärte Biesenbach. »Das ist eine gute Nachricht für die Bürger.«\n",
      "\n",
      "---\n",
      "\n",
      "SUMMARY\n",
      "Im \"Cum-Ex\"-Skandal drohen viele Fälle schwerer Steuerhinterziehung Anfang des kommenden Jahres zu verjähren. Nun sollen die Ermittler mehr Zeit bekommen.  Die Fraktionen von Union und SPD einigten sich, die Verjährungsfrist von zehn auf 15 Jahre zu verlängern. Bundestag und Bundesrat müssen zustimmen.  Die \"Cum-Ex\"-Transaktionen erfolgten vor allem zwischen 2006 und 2012. 2009 gab es besonders viele solcher Aktiendeals, die 2010 steuerlich geltend gemacht wurden. Diese Fälle drohen Ende 2020 zu verjähren.\n",
      "\n",
      "---\n",
      "\n",
      "MODEL SUMMARY\n",
      "beteiligte am cum-ex-skandal sollen deutlich länger als bisher noch belangt werden können. bundestagsfraktionen der cdu / csu und spd einigten sich darauf, die verjährungsfrist für schwere steuerhinterziehung von zehn auf 15 jahren anzuheben. die uhr tickt, denn viele cum-ex-aktiendeals könnten nach geltender rechtslage ab anfang 2021 nicht mehr als straftat geahndet werden.\n"
     ]
    }
   ],
   "source": [
    "print_sample(df, 10)"
   ]
  },
  {
   "cell_type": "code",
   "execution_count": 83,
   "metadata": {
    "pycharm": {
     "name": "#%%\n"
    }
   },
   "outputs": [
    {
     "name": "stdout",
     "output_type": "stream",
     "text": [
      "TEXT\n",
      "Charles Korbly besuchte die öffentlichen Schulen seiner Heimat. Später wurde er Reporter und Herausgeber der Zeitung \"Madison Herold\". Nach einem anschliessenden Jurastudium und seiner im Jahr 1892 erfolgten Zulassung als Rechtsanwalt begann er in Madison in diesem Beruf zu arbeiten. 1895 verlegte er seinen Wohnsitz und seine Anwaltskanzlei nach Indianapolis. Gleichzeitig schlug er als Mitglied der Demokratischen Partei eine politische Laufbahn ein. Bei den Kongresswahlen des Jahres 1908 wurde Korbly im siebten Wahlbezirk von Indiana in das US-Repräsentantenhaus in Washington gewählt, wo er am 4. März 1909 die Nachfolge von Jesse Overstreet antrat. Nach zwei Wiederwahlen konnte er bis zum 3. März 1915 drei Legislaturperioden im Kongress absolvieren. Zwischen 1911 und 1913 war er Vorsitzender des Eisenbahn- und Kanalausschusses. 1913 wurden der 16. und der 17. Verfassungszusatz verabschiedet. Im Jahr 1914 wurde Korbly nicht wiedergewählt. Zwischen 1915 und 1917 war Korbly als \"Receiver General of Insolvent National Banks\" mit der Abwicklung zahlungsunfähiger Banken befasst. Im Jahr 1918 war er während des Ersten Weltkrieges juristischer Berater der Behörde zur Verwaltung von feindlichem Eigentum . Ausserdem gehörte er dem Ausschuss zur Ermittlung des kriegsbedingten Arbeitsbedarfs an. Später arbeitete er als Anwalt in der Bundeshauptstadt. Ausserdem befasste er sich mit literarischen Angelegenheiten. Charles Korbly starb am 26. Juli 1937 in Washington.\n",
      "\n",
      "---\n",
      "\n",
      "SUMMARY\n",
      "Charles Alexander Korbly war ein US-amerikanischer Politiker. Zwischen 1909 und 1915 vertrat er den Bundesstaat Indiana im US-Repräsentantenhaus.\n",
      "\n",
      "---\n",
      "\n",
      "MODEL SUMMARY\n",
      "charles [UNK] war ein [UNK] politiker. [UNK] zwischen 1909 und 1915 vertrat er den bundesstaat indiana im [UNK]. [UNK] ausserdem war er [UNK] general des bundesstaates indiana. [UNK]\n"
     ]
    }
   ],
   "source": [
    "print_sample(df.sort_values(by=['rLf'], ascending=False), 10)"
   ]
  },
  {
   "cell_type": "code",
   "execution_count": null,
   "outputs": [],
   "source": [],
   "metadata": {
    "collapsed": false,
    "pycharm": {
     "name": "#%%\n"
    }
   }
  }
 ],
 "metadata": {
  "kernelspec": {
   "display_name": "Python 3 (ipykernel)",
   "language": "python",
   "name": "python3"
  },
  "language_info": {
   "codemirror_mode": {
    "name": "ipython",
    "version": 3
   },
   "file_extension": ".py",
   "mimetype": "text/x-python",
   "name": "python",
   "nbconvert_exporter": "python",
   "pygments_lexer": "ipython3",
   "version": "3.8.10"
  }
 },
 "nbformat": 4,
 "nbformat_minor": 1
}