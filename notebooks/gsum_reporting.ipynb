{
 "cells": [
  {
   "cell_type": "code",
   "execution_count": 1,
   "metadata": {},
   "outputs": [],
   "source": [
    "import sys, os\n",
    "import pandas as pd\n",
    "sys.path.append('..')"
   ]
  },
  {
   "cell_type": "code",
   "execution_count": 2,
   "metadata": {},
   "outputs": [],
   "source": [
    "from lib.utils import read_file_to_object"
   ]
  },
  {
   "cell_type": "code",
   "execution_count": 3,
   "metadata": {},
   "outputs": [],
   "source": [
    "def get_model_score(scores, model_name = 'model', prefix = ''):\n",
    "    return {\n",
    "        'model': model_name, \n",
    "        'r1': '{:.2f}'.format(scores[f'{prefix}r1f']),\n",
    "        'r2': '{:.2f}'.format(scores[f'{prefix}r2f']), \n",
    "        'r3': '{:.2f}'.format(scores[f'{prefix}r3f']),\n",
    "        'rL': '{:.2f}'.format(scores[f'{prefix}rLf'])\n",
    "    }\n",
    "\n",
    "def create_report(checkpoint = '2021-07-29-1458'):\n",
    "    checkpoint_path = f'../data/trained/{checkpoint}/scores.pkl'\n",
    "    df = read_file_to_object(checkpoint_path)\n",
    "    \n",
    "    scores = df.mean()\n",
    "    report_scores = pd.DataFrame(\n",
    "        columns = ['model', 'r1', 'r2', 'r3', 'rL'],\n",
    "        data = [\n",
    "            get_model_score(scores),\n",
    "            get_model_score(scores, 'Oracle (256)', 'oracle_'),\n",
    "            get_model_score(scores, 'Oracle', 'oracle_orig_')\n",
    "        ]\n",
    "    )\n",
    "\n",
    "    return report_scores, df\n",
    "\n",
    "def print_sample(df, id):\n",
    "    print('SUMMARY')\n",
    "    print(df.iloc[id]['summary'])\n",
    "    print()\n",
    "    print('---')\n",
    "    print()\n",
    "    print('MODEL SUMMARY')\n",
    "    print(df.iloc[id]['summary_predicted'])"
   ]
  },
  {
   "cell_type": "code",
   "execution_count": 16,
   "metadata": {},
   "outputs": [
    {
     "data": {
      "text/plain": "          model    r1    r2    r3    rL\n0         model  0.22  0.06  0.02  0.16\n1  Oracle (256)  0.25  0.06  0.02  0.18\n2        Oracle  0.25  0.06  0.02  0.18",
      "text/html": "<div>\n<style scoped>\n    .dataframe tbody tr th:only-of-type {\n        vertical-align: middle;\n    }\n\n    .dataframe tbody tr th {\n        vertical-align: top;\n    }\n\n    .dataframe thead th {\n        text-align: right;\n    }\n</style>\n<table border=\"1\" class=\"dataframe\">\n  <thead>\n    <tr style=\"text-align: right;\">\n      <th></th>\n      <th>model</th>\n      <th>r1</th>\n      <th>r2</th>\n      <th>r3</th>\n      <th>rL</th>\n    </tr>\n  </thead>\n  <tbody>\n    <tr>\n      <th>0</th>\n      <td>model</td>\n      <td>0.22</td>\n      <td>0.06</td>\n      <td>0.02</td>\n      <td>0.16</td>\n    </tr>\n    <tr>\n      <th>1</th>\n      <td>Oracle (256)</td>\n      <td>0.25</td>\n      <td>0.06</td>\n      <td>0.02</td>\n      <td>0.18</td>\n    </tr>\n    <tr>\n      <th>2</th>\n      <td>Oracle</td>\n      <td>0.25</td>\n      <td>0.06</td>\n      <td>0.02</td>\n      <td>0.18</td>\n    </tr>\n  </tbody>\n</table>\n</div>"
     },
     "execution_count": 16,
     "metadata": {},
     "output_type": "execute_result"
    }
   ],
   "source": [
    "report, df = create_report('2021-07-19-1004')\n",
    "report"
   ]
  },
  {
   "cell_type": "code",
   "execution_count": 17,
   "metadata": {},
   "outputs": [
    {
     "name": "stdout",
     "output_type": "stream",
     "text": [
      "\\begin{tabular}{llllll}\n",
      "\\toprule\n",
      "{} &         model &    r1 &    r2 &    r3 &    rL \\\\\n",
      "\\midrule\n",
      "0 &         model &  0.22 &  0.06 &  0.02 &  0.16 \\\\\n",
      "1 &  Oracle (256) &  0.25 &  0.06 &  0.02 &  0.18 \\\\\n",
      "2 &        Oracle &  0.25 &  0.06 &  0.02 &  0.18 \\\\\n",
      "\\bottomrule\n",
      "\\end{tabular}\n",
      "\n"
     ]
    }
   ],
   "source": [
    "print(report.to_latex())"
   ]
  },
  {
   "cell_type": "code",
   "execution_count": 15,
   "metadata": {
    "pycharm": {
     "name": "#%%\n"
    }
   },
   "outputs": [
    {
     "name": "stdout",
     "output_type": "stream",
     "text": [
      "SUMMARY\n",
      "Australian fashion designer Alex Perry won't show at this year's MBFWA . The designer is excited to kick back and enjoy the shows from front row . This will be the designer's second MBFWA he has missed in two decades . Perry is now focusing on global expansion in Asia and Middle East .\n",
      "\n",
      "---\n",
      "\n",
      "MODEL SUMMARY\n",
      "the designer revealed in february that he would not be presenting a collection at the sydney event this week, and revealed to daily mail australia on sunday that he was enjoying taking a breather. despite this year marking the 20th anniversary of mbfwa, perry is taking in the fashions from the comfort of the front row, after focusing on his international efforts of late. perry pulls out of presenting : acclaimed designer alex perry opts out of showing at this year 's mbfwa.\n"
     ]
    }
   ],
   "source": [
    "print_sample(df, 16)"
   ]
  },
  {
   "cell_type": "code",
   "execution_count": 12,
   "metadata": {
    "pycharm": {
     "name": "#%%\n"
    }
   },
   "outputs": [
    {
     "name": "stdout",
     "output_type": "stream",
     "text": [
      "SUMMARY\n",
      "NatWest Twenty20 Blast launched at Edgbaston on Thursday . Andrew Flintoff was present with a player from each county . Former England captain backed under-fire Test captain Alastair Cook .\n",
      "\n",
      "---\n",
      "\n",
      "MODEL SUMMARY\n",
      "cook, however, is at a much lower ebb as his quest for a long overdue test century - to add to his record 25 - brought him two more failures at the top of the order in the opening match of england 's series in the west indies. the blast 's stock is at a new high, in its second year and 12th for the twenty20 domestic format, with the england and wales cricket board announcing much - improved advance ticket sales and a clutch of overseas superstars such as brendon mccullum set to take part. andrew flintoff shares a joke with warwickshire and england 's chris woakes at the t20 blast launch.\n"
     ]
    }
   ],
   "source": [
    "print_sample(df.sort_values(by=['rLf']), 22)"
   ]
  },
  {
   "cell_type": "code",
   "execution_count": null,
   "outputs": [],
   "source": [],
   "metadata": {
    "collapsed": false,
    "pycharm": {
     "name": "#%%\n"
    }
   }
  }
 ],
 "metadata": {
  "kernelspec": {
   "display_name": "Python 3 (ipykernel)",
   "language": "python",
   "name": "python3"
  },
  "language_info": {
   "codemirror_mode": {
    "name": "ipython",
    "version": 3
   },
   "file_extension": ".py",
   "mimetype": "text/x-python",
   "name": "python",
   "nbconvert_exporter": "python",
   "pygments_lexer": "ipython3",
   "version": "3.8.10"
  }
 },
 "nbformat": 4,
 "nbformat_minor": 1
}