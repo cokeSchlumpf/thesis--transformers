{
 "cells": [
  {
   "cell_type": "markdown",
   "metadata": {},
   "source": [
    "# PyTorch Rain Prediction"
   ]
  },
  {
   "cell_type": "markdown",
   "metadata": {},
   "source": [
    "## Preprocessing"
   ]
  },
  {
   "cell_type": "code",
   "execution_count": 1,
   "metadata": {
    "_cell_guid": "79c7e3d0-c299-4dcb-8224-4455121ee9b0",
    "_uuid": "d629ff2d2480ee46fbb7e2d37f6b5fab8052498a"
   },
   "outputs": [],
   "source": [
    "import numpy as np \n",
    "import pandas as pd\n",
    "from sklearn.preprocessing import StandardScaler\n",
    "from sklearn.model_selection import train_test_split\n",
    "from sklearn.preprocessing import LabelEncoder\n",
    "import torch\n",
    "from torch import nn\n",
    "from torch import optim\n",
    "import torch.nn.functional as F\n",
    "from torch.utils.data import DataLoader, TensorDataset\n",
    "import matplotlib.pyplot as plt"
   ]
  },
  {
   "cell_type": "code",
   "execution_count": 2,
   "metadata": {},
   "outputs": [
    {
     "data": {
      "text/html": [
       "<div>\n",
       "<style scoped>\n",
       "    .dataframe tbody tr th:only-of-type {\n",
       "        vertical-align: middle;\n",
       "    }\n",
       "\n",
       "    .dataframe tbody tr th {\n",
       "        vertical-align: top;\n",
       "    }\n",
       "\n",
       "    .dataframe thead th {\n",
       "        text-align: right;\n",
       "    }\n",
       "</style>\n",
       "<table border=\"1\" class=\"dataframe\">\n",
       "  <thead>\n",
       "    <tr style=\"text-align: right;\">\n",
       "      <th></th>\n",
       "      <th>Date</th>\n",
       "      <th>Location</th>\n",
       "      <th>MinTemp</th>\n",
       "      <th>MaxTemp</th>\n",
       "      <th>Rainfall</th>\n",
       "      <th>Evaporation</th>\n",
       "      <th>Sunshine</th>\n",
       "      <th>WindGustDir</th>\n",
       "      <th>WindGustSpeed</th>\n",
       "      <th>WindDir9am</th>\n",
       "      <th>...</th>\n",
       "      <th>Humidity3pm</th>\n",
       "      <th>Pressure9am</th>\n",
       "      <th>Pressure3pm</th>\n",
       "      <th>Cloud9am</th>\n",
       "      <th>Cloud3pm</th>\n",
       "      <th>Temp9am</th>\n",
       "      <th>Temp3pm</th>\n",
       "      <th>RainToday</th>\n",
       "      <th>RISK_MM</th>\n",
       "      <th>RainTomorrow</th>\n",
       "    </tr>\n",
       "  </thead>\n",
       "  <tbody>\n",
       "    <tr>\n",
       "      <th>0</th>\n",
       "      <td>2008-12-01</td>\n",
       "      <td>Albury</td>\n",
       "      <td>13.4</td>\n",
       "      <td>22.9</td>\n",
       "      <td>0.6</td>\n",
       "      <td>NaN</td>\n",
       "      <td>NaN</td>\n",
       "      <td>W</td>\n",
       "      <td>44.0</td>\n",
       "      <td>W</td>\n",
       "      <td>...</td>\n",
       "      <td>22.0</td>\n",
       "      <td>1007.7</td>\n",
       "      <td>1007.1</td>\n",
       "      <td>8.0</td>\n",
       "      <td>NaN</td>\n",
       "      <td>16.9</td>\n",
       "      <td>21.8</td>\n",
       "      <td>No</td>\n",
       "      <td>0.0</td>\n",
       "      <td>No</td>\n",
       "    </tr>\n",
       "    <tr>\n",
       "      <th>1</th>\n",
       "      <td>2008-12-02</td>\n",
       "      <td>Albury</td>\n",
       "      <td>7.4</td>\n",
       "      <td>25.1</td>\n",
       "      <td>0.0</td>\n",
       "      <td>NaN</td>\n",
       "      <td>NaN</td>\n",
       "      <td>WNW</td>\n",
       "      <td>44.0</td>\n",
       "      <td>NNW</td>\n",
       "      <td>...</td>\n",
       "      <td>25.0</td>\n",
       "      <td>1010.6</td>\n",
       "      <td>1007.8</td>\n",
       "      <td>NaN</td>\n",
       "      <td>NaN</td>\n",
       "      <td>17.2</td>\n",
       "      <td>24.3</td>\n",
       "      <td>No</td>\n",
       "      <td>0.0</td>\n",
       "      <td>No</td>\n",
       "    </tr>\n",
       "    <tr>\n",
       "      <th>2</th>\n",
       "      <td>2008-12-03</td>\n",
       "      <td>Albury</td>\n",
       "      <td>12.9</td>\n",
       "      <td>25.7</td>\n",
       "      <td>0.0</td>\n",
       "      <td>NaN</td>\n",
       "      <td>NaN</td>\n",
       "      <td>WSW</td>\n",
       "      <td>46.0</td>\n",
       "      <td>W</td>\n",
       "      <td>...</td>\n",
       "      <td>30.0</td>\n",
       "      <td>1007.6</td>\n",
       "      <td>1008.7</td>\n",
       "      <td>NaN</td>\n",
       "      <td>2.0</td>\n",
       "      <td>21.0</td>\n",
       "      <td>23.2</td>\n",
       "      <td>No</td>\n",
       "      <td>0.0</td>\n",
       "      <td>No</td>\n",
       "    </tr>\n",
       "    <tr>\n",
       "      <th>3</th>\n",
       "      <td>2008-12-04</td>\n",
       "      <td>Albury</td>\n",
       "      <td>9.2</td>\n",
       "      <td>28.0</td>\n",
       "      <td>0.0</td>\n",
       "      <td>NaN</td>\n",
       "      <td>NaN</td>\n",
       "      <td>NE</td>\n",
       "      <td>24.0</td>\n",
       "      <td>SE</td>\n",
       "      <td>...</td>\n",
       "      <td>16.0</td>\n",
       "      <td>1017.6</td>\n",
       "      <td>1012.8</td>\n",
       "      <td>NaN</td>\n",
       "      <td>NaN</td>\n",
       "      <td>18.1</td>\n",
       "      <td>26.5</td>\n",
       "      <td>No</td>\n",
       "      <td>1.0</td>\n",
       "      <td>No</td>\n",
       "    </tr>\n",
       "    <tr>\n",
       "      <th>4</th>\n",
       "      <td>2008-12-05</td>\n",
       "      <td>Albury</td>\n",
       "      <td>17.5</td>\n",
       "      <td>32.3</td>\n",
       "      <td>1.0</td>\n",
       "      <td>NaN</td>\n",
       "      <td>NaN</td>\n",
       "      <td>W</td>\n",
       "      <td>41.0</td>\n",
       "      <td>ENE</td>\n",
       "      <td>...</td>\n",
       "      <td>33.0</td>\n",
       "      <td>1010.8</td>\n",
       "      <td>1006.0</td>\n",
       "      <td>7.0</td>\n",
       "      <td>8.0</td>\n",
       "      <td>17.8</td>\n",
       "      <td>29.7</td>\n",
       "      <td>No</td>\n",
       "      <td>0.2</td>\n",
       "      <td>No</td>\n",
       "    </tr>\n",
       "  </tbody>\n",
       "</table>\n",
       "<p>5 rows × 24 columns</p>\n",
       "</div>"
      ],
      "text/plain": [
       "         Date Location  MinTemp  MaxTemp  Rainfall  Evaporation  Sunshine  \\\n",
       "0  2008-12-01   Albury     13.4     22.9       0.6          NaN       NaN   \n",
       "1  2008-12-02   Albury      7.4     25.1       0.0          NaN       NaN   \n",
       "2  2008-12-03   Albury     12.9     25.7       0.0          NaN       NaN   \n",
       "3  2008-12-04   Albury      9.2     28.0       0.0          NaN       NaN   \n",
       "4  2008-12-05   Albury     17.5     32.3       1.0          NaN       NaN   \n",
       "\n",
       "  WindGustDir  WindGustSpeed WindDir9am  ... Humidity3pm  Pressure9am  \\\n",
       "0           W           44.0          W  ...        22.0       1007.7   \n",
       "1         WNW           44.0        NNW  ...        25.0       1010.6   \n",
       "2         WSW           46.0          W  ...        30.0       1007.6   \n",
       "3          NE           24.0         SE  ...        16.0       1017.6   \n",
       "4           W           41.0        ENE  ...        33.0       1010.8   \n",
       "\n",
       "   Pressure3pm  Cloud9am  Cloud3pm  Temp9am  Temp3pm  RainToday  RISK_MM  \\\n",
       "0       1007.1       8.0       NaN     16.9     21.8         No      0.0   \n",
       "1       1007.8       NaN       NaN     17.2     24.3         No      0.0   \n",
       "2       1008.7       NaN       2.0     21.0     23.2         No      0.0   \n",
       "3       1012.8       NaN       NaN     18.1     26.5         No      1.0   \n",
       "4       1006.0       7.0       8.0     17.8     29.7         No      0.2   \n",
       "\n",
       "   RainTomorrow  \n",
       "0            No  \n",
       "1            No  \n",
       "2            No  \n",
       "3            No  \n",
       "4            No  \n",
       "\n",
       "[5 rows x 24 columns]"
      ]
     },
     "execution_count": 2,
     "metadata": {},
     "output_type": "execute_result"
    }
   ],
   "source": [
    "df = pd.read_csv(\"weatherAUS.csv\")\n",
    "df.head()"
   ]
  },
  {
   "cell_type": "code",
   "execution_count": 3,
   "metadata": {},
   "outputs": [
    {
     "data": {
      "text/html": [
       "<div>\n",
       "<style scoped>\n",
       "    .dataframe tbody tr th:only-of-type {\n",
       "        vertical-align: middle;\n",
       "    }\n",
       "\n",
       "    .dataframe tbody tr th {\n",
       "        vertical-align: top;\n",
       "    }\n",
       "\n",
       "    .dataframe thead th {\n",
       "        text-align: right;\n",
       "    }\n",
       "</style>\n",
       "<table border=\"1\" class=\"dataframe\">\n",
       "  <thead>\n",
       "    <tr style=\"text-align: right;\">\n",
       "      <th></th>\n",
       "      <th>percent_missing</th>\n",
       "    </tr>\n",
       "  </thead>\n",
       "  <tbody>\n",
       "    <tr>\n",
       "      <th>Sunshine</th>\n",
       "      <td>47.692924</td>\n",
       "    </tr>\n",
       "    <tr>\n",
       "      <th>Evaporation</th>\n",
       "      <td>42.789026</td>\n",
       "    </tr>\n",
       "    <tr>\n",
       "      <th>Cloud3pm</th>\n",
       "      <td>40.152469</td>\n",
       "    </tr>\n",
       "    <tr>\n",
       "      <th>Cloud9am</th>\n",
       "      <td>37.735332</td>\n",
       "    </tr>\n",
       "    <tr>\n",
       "      <th>Pressure9am</th>\n",
       "      <td>9.855619</td>\n",
       "    </tr>\n",
       "    <tr>\n",
       "      <th>Pressure3pm</th>\n",
       "      <td>9.832411</td>\n",
       "    </tr>\n",
       "    <tr>\n",
       "      <th>WindDir9am</th>\n",
       "      <td>7.041838</td>\n",
       "    </tr>\n",
       "    <tr>\n",
       "      <th>WindGustDir</th>\n",
       "      <td>6.561504</td>\n",
       "    </tr>\n",
       "    <tr>\n",
       "      <th>WindGustSpeed</th>\n",
       "      <td>6.519308</td>\n",
       "    </tr>\n",
       "    <tr>\n",
       "      <th>WindDir3pm</th>\n",
       "      <td>2.656952</td>\n",
       "    </tr>\n",
       "    <tr>\n",
       "      <th>Humidity3pm</th>\n",
       "      <td>2.538803</td>\n",
       "    </tr>\n",
       "    <tr>\n",
       "      <th>Temp3pm</th>\n",
       "      <td>1.917113</td>\n",
       "    </tr>\n",
       "    <tr>\n",
       "      <th>WindSpeed3pm</th>\n",
       "      <td>1.849599</td>\n",
       "    </tr>\n",
       "    <tr>\n",
       "      <th>Humidity9am</th>\n",
       "      <td>1.247600</td>\n",
       "    </tr>\n",
       "    <tr>\n",
       "      <th>RainToday</th>\n",
       "      <td>0.988797</td>\n",
       "    </tr>\n",
       "    <tr>\n",
       "      <th>Rainfall</th>\n",
       "      <td>0.988797</td>\n",
       "    </tr>\n",
       "    <tr>\n",
       "      <th>WindSpeed9am</th>\n",
       "      <td>0.948007</td>\n",
       "    </tr>\n",
       "    <tr>\n",
       "      <th>Temp9am</th>\n",
       "      <td>0.635756</td>\n",
       "    </tr>\n",
       "    <tr>\n",
       "      <th>MinTemp</th>\n",
       "      <td>0.447983</td>\n",
       "    </tr>\n",
       "    <tr>\n",
       "      <th>MaxTemp</th>\n",
       "      <td>0.226453</td>\n",
       "    </tr>\n",
       "    <tr>\n",
       "      <th>RISK_MM</th>\n",
       "      <td>0.000000</td>\n",
       "    </tr>\n",
       "    <tr>\n",
       "      <th>Date</th>\n",
       "      <td>0.000000</td>\n",
       "    </tr>\n",
       "    <tr>\n",
       "      <th>Location</th>\n",
       "      <td>0.000000</td>\n",
       "    </tr>\n",
       "    <tr>\n",
       "      <th>RainTomorrow</th>\n",
       "      <td>0.000000</td>\n",
       "    </tr>\n",
       "  </tbody>\n",
       "</table>\n",
       "</div>"
      ],
      "text/plain": [
       "               percent_missing\n",
       "Sunshine             47.692924\n",
       "Evaporation          42.789026\n",
       "Cloud3pm             40.152469\n",
       "Cloud9am             37.735332\n",
       "Pressure9am           9.855619\n",
       "Pressure3pm           9.832411\n",
       "WindDir9am            7.041838\n",
       "WindGustDir           6.561504\n",
       "WindGustSpeed         6.519308\n",
       "WindDir3pm            2.656952\n",
       "Humidity3pm           2.538803\n",
       "Temp3pm               1.917113\n",
       "WindSpeed3pm          1.849599\n",
       "Humidity9am           1.247600\n",
       "RainToday             0.988797\n",
       "Rainfall              0.988797\n",
       "WindSpeed9am          0.948007\n",
       "Temp9am               0.635756\n",
       "MinTemp               0.447983\n",
       "MaxTemp               0.226453\n",
       "RISK_MM               0.000000\n",
       "Date                  0.000000\n",
       "Location              0.000000\n",
       "RainTomorrow          0.000000"
      ]
     },
     "execution_count": 3,
     "metadata": {},
     "output_type": "execute_result"
    }
   ],
   "source": [
    "percent_missing = df.isnull().sum() * 100 / len(df)\n",
    "missing_values = pd.DataFrame({'percent_missing': percent_missing})\n",
    "missing_values.sort_values(by ='percent_missing' , ascending=False)"
   ]
  },
  {
   "cell_type": "code",
   "execution_count": 4,
   "metadata": {},
   "outputs": [
    {
     "data": {
      "text/html": [
       "<div>\n",
       "<style scoped>\n",
       "    .dataframe tbody tr th:only-of-type {\n",
       "        vertical-align: middle;\n",
       "    }\n",
       "\n",
       "    .dataframe tbody tr th {\n",
       "        vertical-align: top;\n",
       "    }\n",
       "\n",
       "    .dataframe thead th {\n",
       "        text-align: right;\n",
       "    }\n",
       "</style>\n",
       "<table border=\"1\" class=\"dataframe\">\n",
       "  <thead>\n",
       "    <tr style=\"text-align: right;\">\n",
       "      <th></th>\n",
       "      <th>RISK_MM</th>\n",
       "      <th>Location</th>\n",
       "      <th>RainTomorrow</th>\n",
       "    </tr>\n",
       "  </thead>\n",
       "  <tbody>\n",
       "    <tr>\n",
       "      <th>0</th>\n",
       "      <td>0.0</td>\n",
       "      <td>Albury</td>\n",
       "      <td>No</td>\n",
       "    </tr>\n",
       "    <tr>\n",
       "      <th>1</th>\n",
       "      <td>0.0</td>\n",
       "      <td>Albury</td>\n",
       "      <td>No</td>\n",
       "    </tr>\n",
       "    <tr>\n",
       "      <th>2</th>\n",
       "      <td>0.0</td>\n",
       "      <td>Albury</td>\n",
       "      <td>No</td>\n",
       "    </tr>\n",
       "    <tr>\n",
       "      <th>3</th>\n",
       "      <td>1.0</td>\n",
       "      <td>Albury</td>\n",
       "      <td>No</td>\n",
       "    </tr>\n",
       "    <tr>\n",
       "      <th>4</th>\n",
       "      <td>0.2</td>\n",
       "      <td>Albury</td>\n",
       "      <td>No</td>\n",
       "    </tr>\n",
       "  </tbody>\n",
       "</table>\n",
       "</div>"
      ],
      "text/plain": [
       "   RISK_MM Location RainTomorrow\n",
       "0      0.0   Albury           No\n",
       "1      0.0   Albury           No\n",
       "2      0.0   Albury           No\n",
       "3      1.0   Albury           No\n",
       "4      0.2   Albury           No"
      ]
     },
     "execution_count": 4,
     "metadata": {},
     "output_type": "execute_result"
    }
   ],
   "source": [
    "df_print = df[['RISK_MM','Location','RainTomorrow']]\n",
    "df_print.head()"
   ]
  },
  {
   "cell_type": "markdown",
   "metadata": {},
   "source": [
    "Considering just the location and RISK_MM (The amount of next day rain in mm. A kind of measure of the \"risk\") as our features."
   ]
  },
  {
   "cell_type": "code",
   "execution_count": 11,
   "metadata": {},
   "outputs": [],
   "source": [
    "df2 = df[['RISK_MM','Location']]\n",
    "X = pd.get_dummies(df2).values\n",
    "X = StandardScaler().fit_transform(X)\n",
    "Y = df['RainTomorrow'].values\n",
    "Y = LabelEncoder().fit_transform(Y)\n",
    "X_Train, X_Test, Y_Train, Y_Test = train_test_split(X, Y, test_size = 0.30, random_state = 101)"
   ]
  },
  {
   "cell_type": "code",
   "execution_count": 12,
   "metadata": {},
   "outputs": [],
   "source": [
    "# Converting data from Numpy to Torch Tensors\n",
    "train = TensorDataset(torch.from_numpy(X_Train).float(), torch.from_numpy(Y_Train).float())\n",
    "test = TensorDataset(torch.from_numpy(X_Test).float(), torch.from_numpy(Y_Test).float())\n",
    "# Creating data loaders\n",
    "trainloader = DataLoader(train, batch_size=128, shuffle=True)\n",
    "testloader = DataLoader(test, batch_size=128, shuffle=True)"
   ]
  },
  {
   "cell_type": "markdown",
   "metadata": {},
   "source": [
    "## Modelling"
   ]
  },
  {
   "cell_type": "code",
   "execution_count": 41,
   "metadata": {},
   "outputs": [],
   "source": [
    "class ANN(nn.Module):\n",
    "    def __init__(self, input_size, hidden_size, num_classes):\n",
    "        super(ANN, self).__init__()\n",
    "        self.fc1 = nn.Linear(input_size, hidden_size) \n",
    "        self.fc2 = nn.Linear(hidden_size, num_classes)  \n",
    "    \n",
    "    def forward(self, x):\n",
    "        out = self.fc1(x)\n",
    "        out = F.relu(out)\n",
    "        out = self.fc2(out)\n",
    "        if not self.training:\n",
    "            out = F.softmax(out, dim=0)\n",
    "        return out"
   ]
  },
  {
   "cell_type": "markdown",
   "metadata": {},
   "source": [
    "### Training"
   ]
  },
  {
   "cell_type": "code",
   "execution_count": 14,
   "metadata": {},
   "outputs": [
    {
     "name": "stdout",
     "output_type": "stream",
     "text": [
      "ANN(\n",
      "  (fc1): Linear(in_features=50, out_features=20, bias=True)\n",
      "  (fc2): Linear(in_features=20, out_features=1, bias=True)\n",
      ")\n"
     ]
    }
   ],
   "source": [
    "# Instatiating the model\n",
    "model = ANN(50, 20, 1)\n",
    "print(model)"
   ]
  },
  {
   "cell_type": "code",
   "execution_count": 15,
   "metadata": {},
   "outputs": [
    {
     "name": "stdout",
     "output_type": "stream",
     "text": [
      "Epoch: 0, Loss: 294.88, Accuracy: 0.13%\n",
      "Epoch: 1, Loss: 123.58, Accuracy: 6.31%\n",
      "Epoch: 2, Loss: 62.27, Accuracy: 28.72%\n",
      "Epoch: 3, Loss: 35.33, Accuracy: 49.40%\n",
      "Epoch: 4, Loss: 22.99, Accuracy: 64.99%\n",
      "Epoch: 5, Loss: 16.80, Accuracy: 71.59%\n",
      "Epoch: 6, Loss: 13.16, Accuracy: 74.13%\n"
     ]
    }
   ],
   "source": [
    "# Defying loss function and optimizer\n",
    "loss_function = nn.BCEWithLogitsLoss()\n",
    "optimiser = optim.Adam(model.parameters())\n",
    "# Training loop for each epoch\n",
    "loss_plot, acc_plot = [], []\n",
    "for epoch in range(7):\n",
    "    total_loss, correct, total = 0, 0, 0\n",
    "    for x, y in trainloader: \n",
    "        # Zero the parameter gradients\n",
    "        optimiser.zero_grad()\n",
    "        # forward + loss + backward + optimise (update weights)\n",
    "        output = model(x)\n",
    "        outputs = output.squeeze(1)\n",
    "        loss = loss_function(outputs, y)\n",
    "        loss.backward()\n",
    "        optimiser.step()\n",
    "        # Keeping track of the loss\n",
    "        total_loss += loss.item()\n",
    "        output = F.softmax(output, dim=0)\n",
    "        count = [1 for i, j in zip(output, y) if i == j]\n",
    "        correct += sum(count)\n",
    "        total += len(y)\n",
    "        acc = ((100.0 * correct) / total)\n",
    "\n",
    "    \n",
    "    print(\"Epoch: %d, Loss: %4.2f, Accuracy: %2.2f\" % (epoch, \n",
    "                                                         total_loss, \n",
    "                                                           acc) + '%')\n",
    "    loss_plot.append(total_loss)\n",
    "    acc_plot.append(acc)"
   ]
  },
  {
   "cell_type": "code",
   "execution_count": 21,
   "metadata": {},
   "outputs": [
    {
     "data": {
      "image/png": "[encoded data removed]",
      "text/plain": [
       "<Figure size 864x360 with 2 Axes>"
      ]
     },
     "metadata": {
      "needs_background": "light"
     },
     "output_type": "display_data"
    }
   ],
   "source": [
    "fig, ax = plt.subplots(nrows=1, ncols=2, figsize=(12, 5))\n",
    "#plt.tight_layout()\n",
    "ax[0].plot(loss_plot)\n",
    "ax[0].grid(True)\n",
    "ax[0].set_title(\"Training Loss\", fontsize=20);\n",
    "ax[0].set_xlabel(\"Epoch\", fontsize=18);\n",
    "ax[0].set_ylabel(\"Loss\", fontsize=18);\n",
    "ax[1].plot(acc_plot)\n",
    "ax[1].grid(True)\n",
    "ax[1].set_title(\"Training Accuracy\", fontsize=20);\n",
    "ax[1].set_xlabel(\"Epoch\", fontsize=18);\n",
    "ax[1].set_ylabel(\"Accuracy (%)\", fontsize=18);\n",
    "plt.savefig(\"Training.png\", format='png', dpi=1200)"
   ]
  },
  {
   "cell_type": "markdown",
   "metadata": {},
   "source": [
    "### Evaluation"
   ]
  },
  {
   "cell_type": "code",
   "execution_count": 17,
   "metadata": {},
   "outputs": [
    {
     "name": "stdout",
     "output_type": "stream",
     "text": [
      "Test Accuracy: 74.66 %\n"
     ]
    }
   ],
   "source": [
    "model.eval()\n",
    "# Computing the model accuracy on the test set\n",
    "correct, total = 0, 0\n",
    "for x, y in testloader:\n",
    "    output = model(x)\n",
    "    count = [1 for i, j in zip(output, y) if i == j]\n",
    "    correct += sum(count)\n",
    "    total += len(y)\n",
    "\n",
    "print('Test Accuracy: %2.2f %%' % ((100.0 * correct) / total))"
   ]
  },
  {
   "cell_type": "markdown",
   "metadata": {},
   "source": [
    "## Alternative Implementation (using CrossEntropyLoss)"
   ]
  },
  {
   "cell_type": "code",
   "execution_count": 18,
   "metadata": {},
   "outputs": [
    {
     "name": "stdout",
     "output_type": "stream",
     "text": [
      "Epoch 0, loss 278.33\n",
      "Epoch 1, loss 88.38\n",
      "Epoch 2, loss 35.79\n",
      "Epoch 3, loss 19.73\n",
      "Epoch 4, loss 14.03\n",
      "Epoch 5, loss 11.35\n",
      "Epoch 6, loss 9.70\n"
     ]
    }
   ],
   "source": [
    "# Instatiating the model\n",
    "model2 = ANN(50, 20, 2)\n",
    "# Definying cross entrophy loss function and optimiser\n",
    "loss_function = nn.CrossEntropyLoss()\n",
    "optimiser = optim.Adam(model2.parameters())\n",
    "\n",
    "for epoch in range(7):\n",
    "    running_loss = 0.0\n",
    "    for x, y in trainloader: \n",
    "        # Zero parameter gradients\n",
    "        optimiser.zero_grad()\n",
    "        # Forward pass, loss function, backward pass and weights update\n",
    "        outputs = model2(x)\n",
    "        loss = loss_function(outputs, y.long())\n",
    "        loss.backward()\n",
    "        optimiser.step()\n",
    "        # Keeping track of the loss\n",
    "        running_loss += loss.item()\n",
    "    print(\"Epoch %d, loss %4.2f\" % (epoch, running_loss))"
   ]
  },
  {
   "cell_type": "code",
   "execution_count": 20,
   "metadata": {},
   "outputs": [
    {
     "name": "stdout",
     "output_type": "stream",
     "text": [
      "Test Accuracy: 80.38 %\n"
     ]
    }
   ],
   "source": [
    "model2.eval()\n",
    "\n",
    "# Computing the model accuracy on the test set\n",
    "correct, total = 0, 0\n",
    "for x, y in testloader:\n",
    "    outputs = model2(x)\n",
    "    winners = outputs.argmax(dim=1)\n",
    "    count = [1 for i, j in zip(winners, y.long()) if i == j]\n",
    "    correct += sum(count)\n",
    "    total += len(y)\n",
    "print('Test Accuracy: %2.2f %%' % ((100.0 * correct) / total))"
   ]
  },
  {
   "cell_type": "markdown",
   "metadata": {},
   "source": [
    "### Adding More Features"
   ]
  },
  {
   "cell_type": "code",
   "execution_count": 53,
   "metadata": {},
   "outputs": [],
   "source": [
    "df2 = df[['RISK_MM','Location']]\n",
    "X = pd.get_dummies(df2).values\n",
    "X = StandardScaler().fit_transform(X)\n",
    "Y = df['RainTomorrow'].values\n",
    "Y = LabelEncoder().fit_transform(Y)\n",
    "X_Train, X_Test, Y_Train, Y_Test = train_test_split(X, Y, test_size = 0.30, random_state = 101)\n",
    "X_Train, X_Valid, Y_Train, Y_Valid = train_test_split(X_Train, Y_Train, test_size = 0.30, random_state = 101)\n",
    "# Converting data from Numpy to Torch Tensors\n",
    "train = TensorDataset(torch.from_numpy(X_Train).float(), torch.from_numpy(Y_Train).float())\n",
    "valid = TensorDataset(torch.from_numpy(X_Valid).float(), torch.from_numpy(Y_Valid).float())\n",
    "test = TensorDataset(torch.from_numpy(X_Test).float(), torch.from_numpy(Y_Test).float())\n",
    "# Creating data loaders\n",
    "trainloader = DataLoader(train, batch_size=128, shuffle=True)\n",
    "validloader = DataLoader(valid, batch_size=128, shuffle=True)\n",
    "testloader = DataLoader(test, batch_size=128, shuffle=True)"
   ]
  },
  {
   "cell_type": "code",
   "execution_count": 48,
   "metadata": {},
   "outputs": [],
   "source": [
    "class ANN2(nn.Module):\n",
    "    def __init__(self, input_size, hidden_size, hidden_size2, num_classes):\n",
    "        super(ANN2, self).__init__()\n",
    "        self.fc1 = nn.Linear(input_size, hidden_size) \n",
    "        self.fc2 = nn.Linear(hidden_size, hidden_size2) \n",
    "        self.fc3 = nn.Linear(hidden_size2, num_classes)  \n",
    "    \n",
    "    def forward(self, x):\n",
    "        out = self.fc1(x)\n",
    "        out = F.relu(out)\n",
    "        out = self.fc2(out)\n",
    "        out = F.relu(out)\n",
    "        out = self.fc3(out)\n",
    "        return out"
   ]
  },
  {
   "cell_type": "code",
   "execution_count": 56,
   "metadata": {},
   "outputs": [
    {
     "name": "stdout",
     "output_type": "stream",
     "text": [
      "Epoch: 0, Loss: 0.37, Accuracy: 0.06%\n",
      "Validation, Loss: 0.09, Accuracy: 4.00%\n",
      "Epoch: 1, Loss: 0.06, Accuracy: 28.37%\n",
      "Validation, Loss: 0.02, Accuracy: 50.34%\n",
      "Epoch: 2, Loss: 0.02, Accuracy: 63.10%\n",
      "Validation, Loss: 0.01, Accuracy: 70.71%\n",
      "Epoch: 3, Loss: 0.02, Accuracy: 72.77%\n",
      "Validation, Loss: 0.01, Accuracy: 74.29%\n",
      "Epoch: 4, Loss: 0.02, Accuracy: 76.32%\n",
      "Validation, Loss: 0.01, Accuracy: 77.42%\n",
      "Epoch: 5, Loss: 0.01, Accuracy: 76.81%\n",
      "Validation, Loss: 0.01, Accuracy: 78.11%\n",
      "Epoch: 6, Loss: 0.01, Accuracy: 77.56%\n",
      "Validation, Loss: 0.01, Accuracy: 78.14%\n",
      "Epoch: 7, Loss: 0.01, Accuracy: 78.00%\n",
      "Validation, Loss: 0.01, Accuracy: 78.33%\n",
      "Epoch: 8, Loss: 0.01, Accuracy: 77.88%\n",
      "Validation, Loss: 0.01, Accuracy: 78.42%\n",
      "Epoch: 9, Loss: 0.01, Accuracy: 78.19%\n",
      "Validation, Loss: 0.01, Accuracy: 78.53%\n",
      "Epoch: 10, Loss: 0.01, Accuracy: 78.20%\n",
      "Validation, Loss: 0.01, Accuracy: 78.53%\n",
      "Epoch: 11, Loss: 0.01, Accuracy: 78.22%\n",
      "Validation, Loss: 0.01, Accuracy: 78.51%\n"
     ]
    }
   ],
   "source": [
    "# Instatiating the model\n",
    "model3 = ANN2(50, 30, 10, 1)\n",
    "# Defying loss function and optimizer\n",
    "loss_function = nn.BCEWithLogitsLoss()\n",
    "optimiser = optim.Adam(model3.parameters())\n",
    "# Training loop for each epoch\n",
    "loss_plot, acc_plot = [], []\n",
    "val_loss_plot, val_acc_plot = [], []\n",
    "for epoch in range(12):\n",
    "    total_loss, correct, total = 0, 0, 0\n",
    "    model3.train()\n",
    "    for x, y in trainloader: \n",
    "        # Zero the parameter gradients\n",
    "        optimiser.zero_grad()\n",
    "        # forward + loss + backward + optimise (update weights)\n",
    "        output = model3(x)\n",
    "        outputs = output.squeeze(1)\n",
    "        loss = loss_function(outputs, y)\n",
    "        loss.backward()\n",
    "        optimiser.step()\n",
    "        # Keeping track of the loss\n",
    "        total_loss += loss.item() \n",
    "        output = F.softmax(output, dim=0)\n",
    "        count = [1 for i, j in zip(output, y) if i == j]\n",
    "        correct += sum(count)\n",
    "        total += len(y)\n",
    "    val_total_loss, val_correct, val_total = 0, 0, 0\n",
    "    model3.eval()\n",
    "    for x, y in validloader: \n",
    "        output = model3(x)\n",
    "        outputs = output.squeeze(1)\n",
    "        val_loss = loss_function(outputs, y)\n",
    "        # Keeping track of the loss\n",
    "        val_total_loss += val_loss.item()\n",
    "        output = F.softmax(output, dim=0)\n",
    "        val_count = [1 for i, j in zip(output, y) if i == j]\n",
    "        val_correct += sum(val_count)\n",
    "        val_total += len(y)\n",
    "\n",
    "    acc = ((100.0 * correct) / total)\n",
    "    val_acc = ((100.0 * val_correct) / val_total)\n",
    "    epoch_loss = total_loss / len(trainloader)\n",
    "    val_epoch_loss = val_total_loss / len(testloader)\n",
    "    print(\"Epoch: %d, Loss: %4.2f, Accuracy: %2.2f\" % (epoch, \n",
    "                                                         epoch_loss, \n",
    "                                                           acc) + '%')\n",
    "    print(\"Validation, Loss: %4.2f, Accuracy: %2.2f\" % (val_epoch_loss, \n",
    "                                                           val_acc) + '%')\n",
    "    loss_plot.append(total_loss)\n",
    "    acc_plot.append(acc)\n",
    "    val_loss_plot.append(val_total_loss)\n",
    "    val_acc_plot.append(val_acc)"
   ]
  },
  {
   "cell_type": "code",
   "execution_count": 66,
   "metadata": {},
   "outputs": [
    {
     "data": {
      "image/png": "[encoded data removed]",
      "text/plain": [
       "<Figure size 1008x360 with 2 Axes>"
      ]
     },
     "metadata": {
      "needs_background": "light"
     },
     "output_type": "display_data"
    }
   ],
   "source": [
    "def train_val_plot(loss_plot, val_loss_plot, acc_plot, val_acc_plot):\n",
    "    fig, ax = plt.subplots(nrows=1, ncols=2, figsize=(14, 5))\n",
    "    #plt.tight_layout()\n",
    "    ax[0].plot(loss_plot, label=\"Training Loss\")\n",
    "    ax[0].plot(val_loss_plot, label=\"Validation Loss\")\n",
    "    ax[0].legend(fontsize=18)\n",
    "    ax[0].grid(True)\n",
    "    ax[0].set_title(\"Training Loss\", fontsize=20);\n",
    "    ax[0].set_xlabel(\"Epoch\", fontsize=18);\n",
    "    ax[0].set_ylabel(\"Loss\", fontsize=18);\n",
    "    ax[1].plot(acc_plot, label=\"Training accuracy\")\n",
    "    ax[1].plot(val_acc_plot, label=\"Validation accuracy\")\n",
    "    ax[1].legend(fontsize=18)\n",
    "    ax[1].grid(True)\n",
    "    ax[1].set_title(\"Training Accuracy\", fontsize=20);\n",
    "    ax[1].set_xlabel(\"Epoch\", fontsize=18);\n",
    "    ax[1].set_ylabel(\"Accuracy (%)\", fontsize=18);\n",
    "    #plt.savefig(\"Training.png\", format='png', dpi=1200)\n",
    "    \n",
    "train_val_plot(loss_plot, val_loss_plot, acc_plot, val_acc_plot)"
   ]
  },
  {
   "cell_type": "code",
   "execution_count": 61,
   "metadata": {},
   "outputs": [
    {
     "name": "stdout",
     "output_type": "stream",
     "text": [
      "Test Accuracy: 77.56 %\n"
     ]
    }
   ],
   "source": [
    "def test_model(model, testloader):\n",
    "    model.eval()\n",
    "    # Computing the model accuracy on the test set\n",
    "    correct, total = 0, 0\n",
    "    for x, y in testloader:\n",
    "        outputs = model(x)\n",
    "        winners = outputs.argmax(dim=1)\n",
    "        count = [1 for i, j in zip(winners, y.long()) if i == j]\n",
    "        correct += sum(count)\n",
    "        total += len(y)\n",
    "    print('Test Accuracy: %2.2f %%' % ((100.0 * correct) / total))\n",
    "    \n",
    "test_model(model3, testloader)"
   ]
  },
  {
   "cell_type": "markdown",
   "metadata": {},
   "source": [
    "#### Complete Implementation"
   ]
  },
  {
   "cell_type": "code",
   "execution_count": 113,
   "metadata": {},
   "outputs": [],
   "source": [
    "def train_model(model, criterion, optimizer, scheduler, num_epochs=5):\n",
    "    since = time.time()\n",
    "\n",
    "    best_model_wts = copy.deepcopy(model.state_dict())\n",
    "    best_acc = 0.0\n",
    "\n",
    "    loss_plot, acc_plot = [], []\n",
    "    val_loss_plot, val_acc_plot = [], []\n",
    "    for epoch in range(num_epochs):\n",
    "        print('Epoch {}/{}'.format(epoch, num_epochs - 1))\n",
    "        print('-' * 10)\n",
    "\n",
    "        # Each epoch has a training and validation phase\n",
    "        for phase in ['train', 'val']:\n",
    "            if phase == 'train':\n",
    "                model.train()  # Set model to training mode\n",
    "            else:\n",
    "                model.eval()   # Set model to evaluate mode\n",
    "\n",
    "            running_loss = 0.0\n",
    "            running_corrects = 0\n",
    "\n",
    "            # Iterate over data.\n",
    "            for inputs, labels in dataloaders[phase]:\n",
    "                inputs = inputs.to(device)\n",
    "                labels = labels.to(device)\n",
    "\n",
    "                # zero the parameter gradients\n",
    "                optimizer.zero_grad()\n",
    "\n",
    "                # forward\n",
    "                # track history if only in train\n",
    "                with torch.set_grad_enabled(phase == 'train'):\n",
    "                    outputs = model(inputs)\n",
    "                    _, preds = torch.max(outputs, 1)\n",
    "                    # Next two lines enable us to use Binary Crossentropy\n",
    "                    #outputs = outputs.squeeze(1)\n",
    "                    #loss = criterion(outputs, labels)\n",
    "                    loss = criterion(outputs, labels.long())\n",
    "\n",
    "                    # backward + optimize only if in training phase\n",
    "                    if phase == 'train':\n",
    "                        loss.backward()\n",
    "                        optimizer.step()\n",
    "\n",
    "                # statistics\n",
    "                running_loss += loss.item() * inputs.size(0)\n",
    "                running_corrects += torch.sum(preds == labels.data.long())\n",
    "            if phase == 'train':\n",
    "                scheduler.step()\n",
    "\n",
    "            epoch_loss = running_loss / dataset_sizes[phase]\n",
    "            epoch_acc = running_corrects.double() / dataset_sizes[phase]\n",
    "            \n",
    "            if phase == 'train':\n",
    "                loss_plot.append(epoch_loss)\n",
    "                acc_plot.append(epoch_acc)\n",
    "            else:\n",
    "                val_loss_plot.append(epoch_loss)\n",
    "                val_acc_plot.append(epoch_acc)\n",
    "\n",
    "            print('{} Loss: {:.4f} Acc: {:.4f}'.format(\n",
    "                phase, epoch_loss, epoch_acc))\n",
    "\n",
    "            # deep copy the model\n",
    "            if phase == 'val' and epoch_acc > best_acc:\n",
    "                best_acc = epoch_acc\n",
    "                best_model_wts = copy.deepcopy(model.state_dict())\n",
    "\n",
    "        print()\n",
    "\n",
    "    time_elapsed = time.time() - since\n",
    "    print('Training complete in {:.0f}m {:.0f}s'.format(\n",
    "        time_elapsed // 60, time_elapsed % 60))\n",
    "    print('Best val Acc: {:4f}'.format(best_acc))\n",
    "\n",
    "    # loading best model weights\n",
    "    model.load_state_dict(best_model_wts)\n",
    "    train_val_plot(loss_plot, val_loss_plot, acc_plot, val_acc_plot)\n",
    "    return model"
   ]
  },
  {
   "cell_type": "code",
   "execution_count": 114,
   "metadata": {},
   "outputs": [
    {
     "name": "stdout",
     "output_type": "stream",
     "text": [
      "Epoch 0/9\n",
      "----------\n",
      "train Loss: 0.5342 Acc: 0.7750\n",
      "val Loss: 0.5053 Acc: 0.7788\n",
      "\n",
      "Epoch 1/9\n",
      "----------\n",
      "train Loss: 0.4869 Acc: 0.7814\n",
      "val Loss: 0.4515 Acc: 0.7970\n",
      "\n",
      "Epoch 2/9\n",
      "----------\n",
      "train Loss: 0.4094 Acc: 0.8207\n",
      "val Loss: 0.3524 Acc: 0.8533\n",
      "\n",
      "Epoch 3/9\n",
      "----------\n",
      "train Loss: 0.3032 Acc: 0.8739\n",
      "val Loss: 0.2499 Acc: 0.8997\n",
      "\n",
      "Epoch 4/9\n",
      "----------\n",
      "train Loss: 0.2125 Acc: 0.9137\n",
      "val Loss: 0.1753 Acc: 0.9315\n",
      "\n",
      "Epoch 5/9\n",
      "----------\n",
      "train Loss: 0.1524 Acc: 0.9392\n",
      "val Loss: 0.1280 Acc: 0.9506\n",
      "\n",
      "Epoch 6/9\n",
      "----------\n",
      "train Loss: 0.1122 Acc: 0.9564\n",
      "val Loss: 0.0972 Acc: 0.9635\n",
      "\n",
      "Epoch 7/9\n",
      "----------\n",
      "train Loss: 0.0958 Acc: 0.9629\n",
      "val Loss: 0.0938 Acc: 0.9633\n",
      "\n",
      "Epoch 8/9\n",
      "----------\n",
      "train Loss: 0.0932 Acc: 0.9637\n",
      "val Loss: 0.0914 Acc: 0.9641\n",
      "\n",
      "Epoch 9/9\n",
      "----------\n",
      "train Loss: 0.0909 Acc: 0.9650\n",
      "val Loss: 0.0892 Acc: 0.9651\n",
      "\n",
      "Training complete in 0m 50s\n",
      "Best val Acc: 0.965105\n"
     ]
    },
    {
     "data": {
      "text/plain": [
       "ANN2(\n",
       "  (fc1): Linear(in_features=50, out_features=30, bias=True)\n",
       "  (fc2): Linear(in_features=30, out_features=10, bias=True)\n",
       "  (fc3): Linear(in_features=10, out_features=2, bias=True)\n",
       ")"
      ]
     },
     "execution_count": 114,
     "metadata": {},
     "output_type": "execute_result"
    },
    {
     "data": {
      "image/png": "[encoded data removed]",
      "text/plain": [
       "<Figure size 1008x360 with 2 Axes>"
      ]
     },
     "metadata": {
      "needs_background": "light"
     },
     "output_type": "display_data"
    }
   ],
   "source": [
    "from torch.optim import lr_scheduler\n",
    "import time\n",
    "import copy\n",
    "\n",
    "dataloaders = {'train': trainloader, 'val': validloader}\n",
    "dataset_sizes = {'train': len(trainloader.dataset), 'val': len(validloader.dataset)}\n",
    "device = torch.device(\"cuda:0\" if torch.cuda.is_available() else \"cpu\")\n",
    "model4 = ANN2(50, 30, 10, 2)\n",
    "criterion = nn.CrossEntropyLoss() #nn.BCEWithLogitsLoss()\n",
    "optimizer_ft = optim.SGD(model4.parameters(), lr=0.001, momentum=0.9)\n",
    "# Decaying learning rate by a factor of 0.1 every 7 epochs\n",
    "exp_lr_scheduler = lr_scheduler.StepLR(optimizer_ft, step_size=7, gamma=0.1)\n",
    "train_model(model4, criterion, optimizer_ft, exp_lr_scheduler, num_epochs=10)"
   ]
  },
  {
   "cell_type": "code",
   "execution_count": 115,
   "metadata": {},
   "outputs": [
    {
     "name": "stdout",
     "output_type": "stream",
     "text": [
      "Test Accuracy: 96.63 %\n"
     ]
    }
   ],
   "source": [
    "test_model(model4, testloader)"
   ]
  }
 ],
 "metadata": {
  "kernelspec": {
   "display_name": "Python 3",
   "language": "python",
   "name": "python3"
  },
  "language_info": {
   "codemirror_mode": {
    "name": "ipython",
    "version": 3
   },
   "file_extension": ".py",
   "mimetype": "text/x-python",
   "name": "python",
   "nbconvert_exporter": "python",
   "pygments_lexer": "ipython3",
   "version": "3.7.3"
  }
 },
 "nbformat": 4,
 "nbformat_minor": 4
}